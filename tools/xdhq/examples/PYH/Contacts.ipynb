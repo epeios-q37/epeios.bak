{
 "cells": [
  {
   "cell_type": "markdown",
   "id": "protective-solomon",
   "metadata": {},
   "source": [
    "**If you haven't already done so, please take a look at this [FAQ](https://q37.info/s/kqsb3gmg), especially if you run this notebook on *Google* *Colab*.**"
   ]
  },
  {
   "cell_type": "markdown",
   "id": "structured-florist",
   "metadata": {},
   "source": [
    "If the [*atlastk*](http://atlastk.org) module is not installed, it will be installed from [*Pypi*](https://q37.info/s/9srmskcm).\n",
    "\n",
    "Don't worry, it's a very lightweight package (~20 Ko), and it has no dependencies…"
   ]
  },
  {
   "cell_type": "code",
   "execution_count": 1,
   "id": "surprised-czech",
   "metadata": {},
   "outputs": [],
   "source": [
    "try:\n",
    "  import atlastk\n",
    "except:\n",
    "  !pip install atlastk\n",
    "  import atlastk\n",
    "\n",
    "atlastk.setJupyterHeight(\"500px\") # Adjusting the height of the iframe in which the application will be displayed…"
   ]
  },
  {
   "cell_type": "code",
   "execution_count": 2,
   "id": "constitutional-discharge",
   "metadata": {},
   "outputs": [],
   "source": [
    "import IPython, base64\n",
    "\n",
    "def show(html,height):\n",
    "    return IPython.display.IFrame(f\"data:text/html;base64,{base64.b64encode(html.encode()).decode('utf-8') }\".replace(\"+\",\"%2B\"), \"100%\", f\"{height}px\")"
   ]
  },
  {
   "cell_type": "code",
   "execution_count": 3,
   "id": "palestinian-jewelry",
   "metadata": {},
   "outputs": [],
   "source": [
    "BODY_CONTACT = \"\"\"\n",
    "<fieldset id=\"Contact\">\n",
    "  <table style=\"margin: auto;\">\n",
    "    <tr>\n",
    "      <td>\n",
    "        <label for=\"Name\">Full name:</label>\n",
    "      </td>\n",
    "      <td>\n",
    "        <input id=\"Name\" size=\"50\" />\n",
    "      </td>\n",
    "    </tr>\n",
    "    <tr>\n",
    "      <td>\n",
    "        <label for=\"Address\">Address:</label>\n",
    "      </td>\n",
    "      <td>\n",
    "        <input id=\"Address\" size=\"50\" />\n",
    "      </td>\n",
    "    </tr>\n",
    "    <tr>\n",
    "      <td>\n",
    "        <label for=\"Phone\">Phone:</label>\n",
    "      </td>\n",
    "      <td>\n",
    "        <input id=\"Phone\" type=\"tel\" size=\"50\" />\n",
    "      </td>\n",
    "    </tr>\n",
    "    <tr>\n",
    "      <td>\n",
    "        <label for=\"Note\">Note:</label>\n",
    "      </td>\n",
    "      <td>\n",
    "        <textarea id=\"Note\" style=\"width: 100%;\"></textarea>\n",
    "      </td>\n",
    "    </tr>\n",
    "  </table>\n",
    "</fieldset>\n",
    "\"\"\""
   ]
  },
  {
   "cell_type": "code",
   "execution_count": 4,
   "id": "jewish-twins",
   "metadata": {},
   "outputs": [
    {
     "data": {
      "text/html": [
       "\n",
       "        <iframe\n",
       "            width=\"100%\"\n",
       "            height=\"200px\"\n",
       "            src=\"data:text/html;base64,CjxmaWVsZHNldCBpZD0iQ29udGFjdCI%2BCiAgPHRhYmxlIHN0eWxlPSJtYXJnaW46IGF1dG87Ij4KICAgIDx0cj4KICAgICAgPHRkPgogICAgICAgIDxsYWJlbCBmb3I9Ik5hbWUiPkZ1bGwgbmFtZTo8L2xhYmVsPgogICAgICA8L3RkPgogICAgICA8dGQ%2BCiAgICAgICAgPGlucHV0IGlkPSJOYW1lIiBzaXplPSI1MCIgLz4KICAgICAgPC90ZD4KICAgIDwvdHI%2BCiAgICA8dHI%2BCiAgICAgIDx0ZD4KICAgICAgICA8bGFiZWwgZm9yPSJBZGRyZXNzIj5BZGRyZXNzOjwvbGFiZWw%2BCiAgICAgIDwvdGQ%2BCiAgICAgIDx0ZD4KICAgICAgICA8aW5wdXQgaWQ9IkFkZHJlc3MiIHNpemU9IjUwIiAvPgogICAgICA8L3RkPgogICAgPC90cj4KICAgIDx0cj4KICAgICAgPHRkPgogICAgICAgIDxsYWJlbCBmb3I9IlBob25lIj5QaG9uZTo8L2xhYmVsPgogICAgICA8L3RkPgogICAgICA8dGQ%2BCiAgICAgICAgPGlucHV0IGlkPSJQaG9uZSIgdHlwZT0idGVsIiBzaXplPSI1MCIgLz4KICAgICAgPC90ZD4KICAgIDwvdHI%2BCiAgICA8dHI%2BCiAgICAgIDx0ZD4KICAgICAgICA8bGFiZWwgZm9yPSJOb3RlIj5Ob3RlOjwvbGFiZWw%2BCiAgICAgIDwvdGQ%2BCiAgICAgIDx0ZD4KICAgICAgICA8dGV4dGFyZWEgaWQ9Ik5vdGUiIHN0eWxlPSJ3aWR0aDogMTAwJTsiPjwvdGV4dGFyZWE%2BCiAgICAgIDwvdGQ%2BCiAgICA8L3RyPgogIDwvdGFibGU%2BCjwvZmllbGRzZXQ%2BCg==\"\n",
       "            frameborder=\"0\"\n",
       "            allowfullscreen\n",
       "        ></iframe>\n",
       "        "
      ],
      "text/plain": [
       "<IPython.lib.display.IFrame at 0x7f136c4fe320>"
      ]
     },
     "execution_count": 4,
     "metadata": {},
     "output_type": "execute_result"
    }
   ],
   "source": [
    "show(BODY_CONTACT,200)"
   ]
  },
  {
   "cell_type": "code",
   "execution_count": 5,
   "id": "toxic-nursery",
   "metadata": {},
   "outputs": [],
   "source": [
    "BODY_BUTTONS = \"\"\"\n",
    "<div style=\"display: table; margin: 10px auto auto auto;\">\n",
    "  <div>\n",
    "    <button class=\"Display\" data-xdh-onevent=\"New\">New</button>\n",
    "    <span class=\"DisplayAndSelect\">\n",
    "      <button data-xdh-onevent=\"Edit\">Edit</button>\n",
    "      <button data-xdh-onevent=\"Delete\">Delete</button>\n",
    "    </span>\n",
    "  </div>\n",
    "  <div class=\"Edition\">\n",
    "    <button data-xdh-onevent=\"Cancel\">Cancel</button>\n",
    "    <button data-xdh-onevent=\"Submit\">Submit</button>\n",
    "  </div>\n",
    "</div>\n",
    "\"\"\""
   ]
  },
  {
   "cell_type": "code",
   "execution_count": 6,
   "id": "timely-context",
   "metadata": {},
   "outputs": [
    {
     "data": {
      "text/html": [
       "\n",
       "        <iframe\n",
       "            width=\"100%\"\n",
       "            height=\"100px\"\n",
       "            src=\"data:text/html;base64,CjxkaXYgc3R5bGU9ImRpc3BsYXk6IHRhYmxlOyBtYXJnaW46IDEwcHggYXV0byBhdXRvIGF1dG87Ij4KICA8ZGl2PgogICAgPGJ1dHRvbiBjbGFzcz0iRGlzcGxheSIgZGF0YS14ZGgtb25ldmVudD0iTmV3Ij5OZXc8L2J1dHRvbj4KICAgIDxzcGFuIGNsYXNzPSJEaXNwbGF5QW5kU2VsZWN0Ij4KICAgICAgPGJ1dHRvbiBkYXRhLXhkaC1vbmV2ZW50PSJFZGl0Ij5FZGl0PC9idXR0b24%2BCiAgICAgIDxidXR0b24gZGF0YS14ZGgtb25ldmVudD0iRGVsZXRlIj5EZWxldGU8L2J1dHRvbj4KICAgIDwvc3Bhbj4KICA8L2Rpdj4KICA8ZGl2IGNsYXNzPSJFZGl0aW9uIj4KICAgIDxidXR0b24gZGF0YS14ZGgtb25ldmVudD0iQ2FuY2VsIj5DYW5jZWw8L2J1dHRvbj4KICAgIDxidXR0b24gZGF0YS14ZGgtb25ldmVudD0iU3VibWl0Ij5TdWJtaXQ8L2J1dHRvbj4KICA8L2Rpdj4KPC9kaXY%2BCg==\"\n",
       "            frameborder=\"0\"\n",
       "            allowfullscreen\n",
       "        ></iframe>\n",
       "        "
      ],
      "text/plain": [
       "<IPython.lib.display.IFrame at 0x7faaac6c2e10>"
      ]
     },
     "execution_count": 6,
     "metadata": {},
     "output_type": "execute_result"
    }
   ],
   "source": [
    "show(BODY_BUTTONS,100)"
   ]
  },
  {
   "cell_type": "code",
   "execution_count": 7,
   "id": "civilian-force",
   "metadata": {},
   "outputs": [],
   "source": [
    "BODY_FORM = f\"\"\"\n",
    "<fieldset>\n",
    "  {BODY_CONTACT}\n",
    "  {BODY_BUTTONS}\n",
    "</fieldset>    \n",
    "\"\"\""
   ]
  },
  {
   "cell_type": "code",
   "execution_count": 8,
   "id": "accepting-murder",
   "metadata": {},
   "outputs": [
    {
     "data": {
      "text/html": [
       "\n",
       "        <iframe\n",
       "            width=\"100%\"\n",
       "            height=\"300px\"\n",
       "            src=\"data:text/html;base64,CjxmaWVsZHNldD4KICAKPGZpZWxkc2V0IGlkPSJDb250YWN0Ij4KICA8dGFibGUgc3R5bGU9Im1hcmdpbjogYXV0bzsiPgogICAgPHRyPgogICAgICA8dGQ%2BCiAgICAgICAgPGxhYmVsIGZvcj0iTmFtZSI%2BRnVsbCBuYW1lOjwvbGFiZWw%2BCiAgICAgIDwvdGQ%2BCiAgICAgIDx0ZD4KICAgICAgICA8aW5wdXQgaWQ9Ik5hbWUiIHNpemU9IjUwIiAvPgogICAgICA8L3RkPgogICAgPC90cj4KICAgIDx0cj4KICAgICAgPHRkPgogICAgICAgIDxsYWJlbCBmb3I9IkFkZHJlc3MiPkFkZHJlc3M6PC9sYWJlbD4KICAgICAgPC90ZD4KICAgICAgPHRkPgogICAgICAgIDxpbnB1dCBpZD0iQWRkcmVzcyIgc2l6ZT0iNTAiIC8%2BCiAgICAgIDwvdGQ%2BCiAgICA8L3RyPgogICAgPHRyPgogICAgICA8dGQ%2BCiAgICAgICAgPGxhYmVsIGZvcj0iUGhvbmUiPlBob25lOjwvbGFiZWw%2BCiAgICAgIDwvdGQ%2BCiAgICAgIDx0ZD4KICAgICAgICA8aW5wdXQgaWQ9IlBob25lIiB0eXBlPSJ0ZWwiIHNpemU9IjUwIiAvPgogICAgICA8L3RkPgogICAgPC90cj4KICAgIDx0cj4KICAgICAgPHRkPgogICAgICAgIDxsYWJlbCBmb3I9Ik5vdGUiPk5vdGU6PC9sYWJlbD4KICAgICAgPC90ZD4KICAgICAgPHRkPgogICAgICAgIDx0ZXh0YXJlYSBpZD0iTm90ZSIgc3R5bGU9IndpZHRoOiAxMDAlOyI%2BPC90ZXh0YXJlYT4KICAgICAgPC90ZD4KICAgIDwvdHI%2BCiAgPC90YWJsZT4KPC9maWVsZHNldD4KCiAgCjxkaXYgc3R5bGU9ImRpc3BsYXk6IHRhYmxlOyBtYXJnaW46IDEwcHggYXV0byBhdXRvIGF1dG87Ij4KICA8ZGl2PgogICAgPGJ1dHRvbiBjbGFzcz0iRGlzcGxheSIgZGF0YS14ZGgtb25ldmVudD0iTmV3Ij5OZXc8L2J1dHRvbj4KICAgIDxzcGFuIGNsYXNzPSJEaXNwbGF5QW5kU2VsZWN0Ij4KICAgICAgPGJ1dHRvbiBkYXRhLXhkaC1vbmV2ZW50PSJFZGl0Ij5FZGl0PC9idXR0b24%2BCiAgICAgIDxidXR0b24gZGF0YS14ZGgtb25ldmVudD0iRGVsZXRlIj5EZWxldGU8L2J1dHRvbj4KICAgIDwvc3Bhbj4KICA8L2Rpdj4KICA8ZGl2IGNsYXNzPSJFZGl0aW9uIj4KICAgIDxidXR0b24gZGF0YS14ZGgtb25ldmVudD0iQ2FuY2VsIj5DYW5jZWw8L2J1dHRvbj4KICAgIDxidXR0b24gZGF0YS14ZGgtb25ldmVudD0iU3VibWl0Ij5TdWJtaXQ8L2J1dHRvbj4KICA8L2Rpdj4KPC9kaXY%2BCgo8L2ZpZWxkc2V0PiAgICAK\"\n",
       "            frameborder=\"0\"\n",
       "            allowfullscreen\n",
       "        ></iframe>\n",
       "        "
      ],
      "text/plain": [
       "<IPython.lib.display.IFrame at 0x7faaac70cfd0>"
      ]
     },
     "execution_count": 8,
     "metadata": {},
     "output_type": "execute_result"
    }
   ],
   "source": [
    "show(BODY_FORM,300)"
   ]
  },
  {
   "cell_type": "code",
   "execution_count": 9,
   "id": "turned-employer",
   "metadata": {
    "tags": []
   },
   "outputs": [],
   "source": [
    "BODY_CONTACTS = \"\"\"\n",
    "<div style=\"display: table; margin: 10px auto auto auto; border-collapse: collapse;\">\n",
    "  <table id=\"Contacts\" style=\"cursor: default; border-collapse: collapse;\">\n",
    "    <thead>\n",
    "      <th>Name</th>\n",
    "      <th>Address</th>\n",
    "      <th>Phone</th>\n",
    "      <th>Note</th>\n",
    "    </thead>\n",
    "    <tbody id=\"Content\" />\n",
    "  </table>\n",
    "</div>\n",
    "\"\"\""
   ]
  },
  {
   "cell_type": "code",
   "execution_count": 10,
   "id": "biblical-share",
   "metadata": {},
   "outputs": [
    {
     "data": {
      "text/html": [
       "\n",
       "        <iframe\n",
       "            width=\"100%\"\n",
       "            height=\"50px\"\n",
       "            src=\"data:text/html;base64,CjxkaXYgc3R5bGU9ImRpc3BsYXk6IHRhYmxlOyBtYXJnaW46IDEwcHggYXV0byBhdXRvIGF1dG87IGJvcmRlci1jb2xsYXBzZTogY29sbGFwc2U7Ij4KICA8dGFibGUgaWQ9IkNvbnRhY3RzIiBzdHlsZT0iY3Vyc29yOiBkZWZhdWx0OyBib3JkZXItY29sbGFwc2U6IGNvbGxhcHNlOyI%2BCiAgICA8dGhlYWQ%2BCiAgICAgIDx0aD5OYW1lPC90aD4KICAgICAgPHRoPkFkZHJlc3M8L3RoPgogICAgICA8dGg%2BUGhvbmU8L3RoPgogICAgICA8dGg%2BTm90ZTwvdGg%2BCiAgICA8L3RoZWFkPgogICAgPHRib2R5IGlkPSJDb250ZW50IiAvPgogIDwvdGFibGU%2BCjwvZGl2Pgo=\"\n",
       "            frameborder=\"0\"\n",
       "            allowfullscreen\n",
       "        ></iframe>\n",
       "        "
      ],
      "text/plain": [
       "<IPython.lib.display.IFrame at 0x7faaac6c62e8>"
      ]
     },
     "execution_count": 10,
     "metadata": {},
     "output_type": "execute_result"
    }
   ],
   "source": [
    "show(BODY_CONTACTS,50)"
   ]
  },
  {
   "cell_type": "code",
   "execution_count": 11,
   "id": "finnish-female",
   "metadata": {},
   "outputs": [],
   "source": [
    "BODY = BODY_FORM + BODY_CONTACTS"
   ]
  },
  {
   "cell_type": "code",
   "execution_count": 12,
   "id": "wrong-charger",
   "metadata": {},
   "outputs": [
    {
     "data": {
      "text/html": [
       "\n",
       "        <iframe\n",
       "            width=\"100%\"\n",
       "            height=\"350px\"\n",
       "            src=\"data:text/html;base64,CjxmaWVsZHNldD4KICAKPGZpZWxkc2V0IGlkPSJDb250YWN0Ij4KICA8dGFibGUgc3R5bGU9Im1hcmdpbjogYXV0bzsiPgogICAgPHRyPgogICAgICA8dGQ%2BCiAgICAgICAgPGxhYmVsIGZvcj0iTmFtZSI%2BRnVsbCBuYW1lOjwvbGFiZWw%2BCiAgICAgIDwvdGQ%2BCiAgICAgIDx0ZD4KICAgICAgICA8aW5wdXQgaWQ9Ik5hbWUiIHNpemU9IjUwIiAvPgogICAgICA8L3RkPgogICAgPC90cj4KICAgIDx0cj4KICAgICAgPHRkPgogICAgICAgIDxsYWJlbCBmb3I9IkFkZHJlc3MiPkFkZHJlc3M6PC9sYWJlbD4KICAgICAgPC90ZD4KICAgICAgPHRkPgogICAgICAgIDxpbnB1dCBpZD0iQWRkcmVzcyIgc2l6ZT0iNTAiIC8%2BCiAgICAgIDwvdGQ%2BCiAgICA8L3RyPgogICAgPHRyPgogICAgICA8dGQ%2BCiAgICAgICAgPGxhYmVsIGZvcj0iUGhvbmUiPlBob25lOjwvbGFiZWw%2BCiAgICAgIDwvdGQ%2BCiAgICAgIDx0ZD4KICAgICAgICA8aW5wdXQgaWQ9IlBob25lIiB0eXBlPSJ0ZWwiIHNpemU9IjUwIiAvPgogICAgICA8L3RkPgogICAgPC90cj4KICAgIDx0cj4KICAgICAgPHRkPgogICAgICAgIDxsYWJlbCBmb3I9Ik5vdGUiPk5vdGU6PC9sYWJlbD4KICAgICAgPC90ZD4KICAgICAgPHRkPgogICAgICAgIDx0ZXh0YXJlYSBpZD0iTm90ZSIgc3R5bGU9IndpZHRoOiAxMDAlOyI%2BPC90ZXh0YXJlYT4KICAgICAgPC90ZD4KICAgIDwvdHI%2BCiAgPC90YWJsZT4KPC9maWVsZHNldD4KCiAgCjxkaXYgc3R5bGU9ImRpc3BsYXk6IHRhYmxlOyBtYXJnaW46IDEwcHggYXV0byBhdXRvIGF1dG87Ij4KICA8ZGl2PgogICAgPGJ1dHRvbiBjbGFzcz0iRGlzcGxheSIgZGF0YS14ZGgtb25ldmVudD0iTmV3Ij5OZXc8L2J1dHRvbj4KICAgIDxzcGFuIGNsYXNzPSJEaXNwbGF5QW5kU2VsZWN0Ij4KICAgICAgPGJ1dHRvbiBkYXRhLXhkaC1vbmV2ZW50PSJFZGl0Ij5FZGl0PC9idXR0b24%2BCiAgICAgIDxidXR0b24gZGF0YS14ZGgtb25ldmVudD0iRGVsZXRlIj5EZWxldGU8L2J1dHRvbj4KICAgIDwvc3Bhbj4KICA8L2Rpdj4KICA8ZGl2IGNsYXNzPSJFZGl0aW9uIj4KICAgIDxidXR0b24gZGF0YS14ZGgtb25ldmVudD0iQ2FuY2VsIj5DYW5jZWw8L2J1dHRvbj4KICAgIDxidXR0b24gZGF0YS14ZGgtb25ldmVudD0iU3VibWl0Ij5TdWJtaXQ8L2J1dHRvbj4KICA8L2Rpdj4KPC9kaXY%2BCgo8L2ZpZWxkc2V0PiAgICAKCjxkaXYgc3R5bGU9ImRpc3BsYXk6IHRhYmxlOyBtYXJnaW46IDEwcHggYXV0byBhdXRvIGF1dG87IGJvcmRlci1jb2xsYXBzZTogY29sbGFwc2U7Ij4KICA8dGFibGUgaWQ9IkNvbnRhY3RzIiBzdHlsZT0iY3Vyc29yOiBkZWZhdWx0OyBib3JkZXItY29sbGFwc2U6IGNvbGxhcHNlOyI%2BCiAgICA8dGhlYWQ%2BCiAgICAgIDx0aD5OYW1lPC90aD4KICAgICAgPHRoPkFkZHJlc3M8L3RoPgogICAgICA8dGg%2BUGhvbmU8L3RoPgogICAgICA8dGg%2BTm90ZTwvdGg%2BCiAgICA8L3RoZWFkPgogICAgPHRib2R5IGlkPSJDb250ZW50IiAvPgogIDwvdGFibGU%2BCjwvZGl2Pgo=\"\n",
       "            frameborder=\"0\"\n",
       "            allowfullscreen\n",
       "        ></iframe>\n",
       "        "
      ],
      "text/plain": [
       "<IPython.lib.display.IFrame at 0x7faaac6c67b8>"
      ]
     },
     "execution_count": 12,
     "metadata": {},
     "output_type": "execute_result"
    }
   ],
   "source": [
    "show(BODY,350)"
   ]
  },
  {
   "cell_type": "code",
   "execution_count": 13,
   "id": "wrong-history",
   "metadata": {
    "tags": []
   },
   "outputs": [],
   "source": [
    "HEAD = \"\"\"\n",
    "<title>Address book</title>\n",
    "<link rel=\"icon\" type=\"image/png\"\n",
    "  href=\"data:image/png;base64,iVBORw0KGgoAAAANSUhEUgAAACAAAAAgBAMAAACBVGfHAAAAMFBMVEUEAvyEhsxERuS8urQsKuycnsRkYtzc2qwUFvRUVtysrrx0ctTs6qTMyrSUksQ0NuyciPBdAAABHklEQVR42mNgwAa8zlxjDd2A4POfOXPmzZkFCAH2M8fNzyALzDlzg2ENssCbMwkMOsgCa858YOjBKxBzRoHhD7LAHiBH5swCT9HQ6A9ggZ4zp7YCrV0DdM6pBpAAG5Blc2aBDZA68wCsZPuZU0BDH07xvHOmAGKKvgMP2NA/Zw7ADIYJXGDgLQeBBSCBFu0aoAPYQUadMQAJAE29zwAVWMCWpgB08ZnDQGsbGhpsgCqBQHNfzRkDEIPlzFmo0T5nzoMovjPHoAK8Zw5BnA5yDosDSAVYQOYMKIDZzkoDzagAsjhqzjRAfXTmzAQgi/vMQZA6pjtAvhEk0E+ATWRRm6YBZuScCUCNN5szH1D4TGdOoSrggtiNAH3vBBjwAQCglIrSZkf1MQAAAABJRU5ErkJggg==\" />\n",
    "<style>\n",
    "  #Contact label {\n",
    "    font-weight: bold;\n",
    "  }\n",
    "\n",
    "  #Contact span {\n",
    "    text-align: left;\n",
    "  }\n",
    "\n",
    "  #Contacts th,\n",
    "  #Contacts td {\n",
    "    border: 1px solid black;\n",
    "    padding: 0% 5px;\n",
    "  }\n",
    "\n",
    "  #Contacts td:nth-child(3) {\n",
    "    text-align: right;\n",
    "  }\n",
    "\n",
    "  #Contacts tr:nth-child(even)\n",
    "  {\n",
    "    background: #CCC\n",
    "  }\n",
    "\n",
    "  #Contacts tr:nth-child(odd)\n",
    "  {\n",
    "    background: #FFF\n",
    "  }\n",
    "\n",
    "  #Contact *:disabled {\n",
    "    background-color: snow;\n",
    "    color: initial;\n",
    "  }\n",
    "</style>\n",
    "<style id=\"HideDisplay\">\n",
    "  .Display {\n",
    "    display: none;\n",
    "  }\n",
    "</style>\n",
    "<style id=\"HideDisplayAndSelect\">\n",
    "  .DisplayAndSelect {\n",
    "    display: none;\n",
    "  }\n",
    "</style>\n",
    "<style id=\"HideEdition\">\n",
    "  .Edition {\n",
    "    display: none;\n",
    "  }\n",
    "</style>\n",
    "\"\"\""
   ]
  },
  {
   "cell_type": "code",
   "execution_count": 14,
   "id": "multiple-blowing",
   "metadata": {},
   "outputs": [],
   "source": [
    "def ac_connect(dom):\n",
    "  dom.inner(\"\",BODY)\n",
    "\n",
    "callbacks = {\n",
    "    \"\": ac_connect \n",
    "} "
   ]
  },
  {
   "cell_type": "code",
   "execution_count": 15,
   "id": "capable-contrary",
   "metadata": {},
   "outputs": [
    {
     "name": "stdout",
     "output_type": "stream",
     "text": [
      "Connection to 'faas1.q37.info:53700'...\n",
      "Connected to 'faas1.q37.info:53700'.\n",
      "\n",
      "****************************************************************************\n",
      "     Your application is connected to the free public server. Welcome!\n",
      "     THIS SERVICE IS PROVIDED \"AS IS\", WITHOUT WARRANTY OF ANY KIND,\n",
      "     EXPRESS OR IMPLIED. THE USE OF THIS SERVICE IS AT YOUR OWN RISK.\n",
      "****************************************************************************\n",
      "                    \n",
      "http://faas1.q37.info/xdh.php?_token=feaaf147-70c6-4466-8b98-c65b6a41237e\n",
      "^^^^^^^^^^^^^^^^^^^^^^^^^^^^^^^^^^^^^^^^^^^^^^^^^^^^^^^^^^^^^^^^^^^^^^^^^\n",
      "Open above URL in a web browser (click, right click or copy/paste). Enjoy!\n",
      "\n"
     ]
    },
    {
     "data": {
      "text/html": [
       "\n",
       "        <iframe\n",
       "            width=\"100%\"\n",
       "            height=\"500px\"\n",
       "            src=\"https://faas1.q37.info/xdh.php?_token=feaaf147-70c6-4466-8b98-c65b6a41237e\"\n",
       "            frameborder=\"0\"\n",
       "            allowfullscreen\n",
       "        ></iframe>\n",
       "        "
      ],
      "text/plain": [
       "<IPython.lib.display.IFrame at 0x7faaac6c7898>"
      ]
     },
     "execution_count": 15,
     "metadata": {},
     "output_type": "execute_result"
    }
   ],
   "source": [
    "atlastk.launch(callbacks,headContent = HEAD)"
   ]
  },
  {
   "cell_type": "code",
   "execution_count": 16,
   "id": "insured-award",
   "metadata": {},
   "outputs": [],
   "source": [
    "EXAMPLE = [\n",
    "  {\n",
    "    \"Name\": \"Holmes, Sherlock\",\n",
    "    \"Address\": \"221B Baker Street, Londres\",\n",
    "    \"Phone\": \"(use telegraph)\",\n",
    "    \"Note\": \"Great detective!\"\n",
    "  },\n",
    "  {\n",
    "    \"Name\": \"Holmes, Mycroft\",\n",
    "    \"Address\": \"Diogenes Club, Pall Mall, Londres\",\n",
    "    \"Phone\": \"(use telegraph)\",\n",
    "    \"Note\": \"Works for the British government.\\nBrother of Holmes, Sherlock.\"\n",
    "  },\n",
    "  {\n",
    "    \"Name\": \"Tintin\",\n",
    "    \"Address\": \"Château de Moulinsart\",\n",
    "    \"Phone\": \"421\",\n",
    "    \"Note\": \"Has a dog named Snowy.\"\n",
    "  },\n",
    "  {\n",
    "    \"Name\": \"Tournesol, Tryphon (prof.)\",\n",
    "    \"Address\": \"Château de Moulinsart\",\n",
    "    \"Phone\": \"421\",\n",
    "    \"Note\": \"Creator of the Bianca rose.\"\n",
    "  }\n",
    "]\n",
    "\n",
    "contacts = EXAMPLE"
   ]
  },
  {
   "cell_type": "code",
   "execution_count": 17,
   "id": "surprising-crowd",
   "metadata": {},
   "outputs": [],
   "source": [
    "def display_contacts(dom):\n",
    "  html = \"\"\n",
    "\n",
    "  for contactId in range(len(contacts)):\n",
    "    contact = contacts[contactId]\n",
    "    html += f'<tr id=\"{contactId}\" data-xdh-onevent=\"Select\" style=\"cursor: pointer;\">'\n",
    "    for key in contact:\n",
    "      html += f'<td>{contact[key]}</td>'\n",
    "    html += '</td>'\n",
    "\n",
    "  dom.inner(\"Content\", html)"
   ]
  },
  {
   "cell_type": "code",
   "execution_count": 18,
   "id": "aquatic-exception",
   "metadata": {},
   "outputs": [],
   "source": [
    "def ac_connect(dom):\n",
    "  dom.inner(\"\",BODY)\n",
    "  display_contacts(dom)\n",
    "    \n",
    "callbacks[\"\"] = ac_connect"
   ]
  },
  {
   "cell_type": "code",
   "execution_count": 19,
   "id": "defensive-hollywood",
   "metadata": {},
   "outputs": [
    {
     "name": "stdout",
     "output_type": "stream",
     "text": [
      "Connection to 'faas1.q37.info:53700'...\n",
      "Connected to 'faas1.q37.info:53700'.\n",
      "\n",
      "****************************************************************************\n",
      "     Your application is connected to the free public server. Welcome!\n",
      "     THIS SERVICE IS PROVIDED \"AS IS\", WITHOUT WARRANTY OF ANY KIND,\n",
      "     EXPRESS OR IMPLIED. THE USE OF THIS SERVICE IS AT YOUR OWN RISK.\n",
      "****************************************************************************\n",
      "                    \n",
      "http://faas1.q37.info/xdh.php?_token=a0ce17fa-6613-421e-bac1-b7ef68e61e3a\n",
      "^^^^^^^^^^^^^^^^^^^^^^^^^^^^^^^^^^^^^^^^^^^^^^^^^^^^^^^^^^^^^^^^^^^^^^^^^\n",
      "Open above URL in a web browser (click, right click or copy/paste). Enjoy!\n",
      "\n"
     ]
    },
    {
     "data": {
      "text/html": [
       "\n",
       "        <iframe\n",
       "            width=\"100%\"\n",
       "            height=\"500px\"\n",
       "            src=\"https://faas1.q37.info/xdh.php?_token=a0ce17fa-6613-421e-bac1-b7ef68e61e3a\"\n",
       "            frameborder=\"0\"\n",
       "            allowfullscreen\n",
       "        ></iframe>\n",
       "        "
      ],
      "text/plain": [
       "<IPython.lib.display.IFrame at 0x7faaac6c7860>"
      ]
     },
     "execution_count": 19,
     "metadata": {},
     "output_type": "execute_result"
    }
   ],
   "source": [
    "atlastk.launch(callbacks)"
   ]
  },
  {
   "cell_type": "code",
   "execution_count": 20,
   "id": "handmade-settle",
   "metadata": {},
   "outputs": [],
   "source": [
    "def display_contact(contactId,dom):\n",
    "  dom.set_values(contacts[contactId])"
   ]
  },
  {
   "cell_type": "code",
   "execution_count": 21,
   "id": "hired-steal",
   "metadata": {},
   "outputs": [],
   "source": [
    "def ac_select(dom,id):\n",
    "  display_contact(int(id),dom)\n",
    "\n",
    "callbacks[\"Select\"] = ac_select"
   ]
  },
  {
   "cell_type": "code",
   "execution_count": 22,
   "id": "lesser-portsmouth",
   "metadata": {
    "tags": []
   },
   "outputs": [
    {
     "name": "stdout",
     "output_type": "stream",
     "text": [
      "Connection to 'faas1.q37.info:53700'...\n",
      "Connected to 'faas1.q37.info:53700'.\n",
      "\n",
      "****************************************************************************\n",
      "     Your application is connected to the free public server. Welcome!\n",
      "     THIS SERVICE IS PROVIDED \"AS IS\", WITHOUT WARRANTY OF ANY KIND,\n",
      "     EXPRESS OR IMPLIED. THE USE OF THIS SERVICE IS AT YOUR OWN RISK.\n",
      "****************************************************************************\n",
      "                    \n",
      "http://faas1.q37.info/xdh.php?_token=ba21f337-5730-47df-83cf-b29ac1039a5b\n",
      "^^^^^^^^^^^^^^^^^^^^^^^^^^^^^^^^^^^^^^^^^^^^^^^^^^^^^^^^^^^^^^^^^^^^^^^^^\n",
      "Open above URL in a web browser (click, right click or copy/paste). Enjoy!\n",
      "\n"
     ]
    },
    {
     "data": {
      "text/html": [
       "\n",
       "        <iframe\n",
       "            width=\"100%\"\n",
       "            height=\"500px\"\n",
       "            src=\"https://faas1.q37.info/xdh.php?_token=ba21f337-5730-47df-83cf-b29ac1039a5b\"\n",
       "            frameborder=\"0\"\n",
       "            allowfullscreen\n",
       "        ></iframe>\n",
       "        "
      ],
      "text/plain": [
       "<IPython.lib.display.IFrame at 0x7faaac05bd68>"
      ]
     },
     "execution_count": 22,
     "metadata": {},
     "output_type": "execute_result"
    }
   ],
   "source": [
    "atlastk.launch(callbacks)"
   ]
  },
  {
   "cell_type": "code",
   "execution_count": 23,
   "id": "square-notebook",
   "metadata": {
    "tags": []
   },
   "outputs": [],
   "source": [
    "FIELDS = [\n",
    "  \"Name\",\n",
    "  \"Address\",\n",
    "  \"Phone\",\n",
    "  \"Note\"\n",
    "]"
   ]
  },
  {
   "cell_type": "code",
   "execution_count": 24,
   "id": "ancient-deposit",
   "metadata": {},
   "outputs": [],
   "source": [
    "def update_outfit(dom):\n",
    "  dom.disable_elements(FIELDS)\n",
    "  dom.disable_element(\"HideDisplay\")"
   ]
  },
  {
   "cell_type": "code",
   "execution_count": 25,
   "id": "fabulous-california",
   "metadata": {},
   "outputs": [],
   "source": [
    "def ac_connect(dom):\n",
    "  dom.inner(\"\",BODY)\n",
    "  display_contacts(dom)\n",
    "  update_outfit(dom)\n",
    "\n",
    "callbacks[\"\"] = ac_connect"
   ]
  },
  {
   "cell_type": "code",
   "execution_count": 26,
   "id": "aboriginal-canadian",
   "metadata": {},
   "outputs": [],
   "source": [
    "def ac_select(dom,id):\n",
    "  display_contact(int(id),dom)\n",
    "  update_outfit(dom)\n",
    "    \n",
    "callbacks[\"Select\"] = ac_select"
   ]
  },
  {
   "cell_type": "code",
   "execution_count": 27,
   "id": "threatened-pottery",
   "metadata": {},
   "outputs": [
    {
     "name": "stdout",
     "output_type": "stream",
     "text": [
      "Connection to 'faas1.q37.info:53700'...\n",
      "Connected to 'faas1.q37.info:53700'.\n",
      "\n",
      "****************************************************************************\n",
      "     Your application is connected to the free public server. Welcome!\n",
      "     THIS SERVICE IS PROVIDED \"AS IS\", WITHOUT WARRANTY OF ANY KIND,\n",
      "     EXPRESS OR IMPLIED. THE USE OF THIS SERVICE IS AT YOUR OWN RISK.\n",
      "****************************************************************************\n",
      "                    \n",
      "http://faas1.q37.info/xdh.php?_token=3f8c3813-4722-4ea8-bb42-4c3c7cb25914\n",
      "^^^^^^^^^^^^^^^^^^^^^^^^^^^^^^^^^^^^^^^^^^^^^^^^^^^^^^^^^^^^^^^^^^^^^^^^^\n",
      "Open above URL in a web browser (click, right click or copy/paste). Enjoy!\n",
      "\n"
     ]
    },
    {
     "data": {
      "text/html": [
       "\n",
       "        <iframe\n",
       "            width=\"100%\"\n",
       "            height=\"500px\"\n",
       "            src=\"https://faas1.q37.info/xdh.php?_token=3f8c3813-4722-4ea8-bb42-4c3c7cb25914\"\n",
       "            frameborder=\"0\"\n",
       "            allowfullscreen\n",
       "        ></iframe>\n",
       "        "
      ],
      "text/plain": [
       "<IPython.lib.display.IFrame at 0x7faaac05bc50>"
      ]
     },
     "execution_count": 27,
     "metadata": {},
     "output_type": "execute_result"
    }
   ],
   "source": [
    "atlastk.launch(callbacks)"
   ]
  },
  {
   "cell_type": "code",
   "execution_count": 28,
   "id": "occupational-block",
   "metadata": {},
   "outputs": [],
   "source": [
    "import enum\n",
    "\n",
    "class State(enum.Enum):\n",
    "  DISPLAY = enum.auto() # Affichage\n",
    "  EDIT = enum.auto()    # Édition"
   ]
  },
  {
   "cell_type": "code",
   "execution_count": 29,
   "id": "cardiac-length",
   "metadata": {},
   "outputs": [],
   "source": [
    "class Board:\n",
    "  def __init__(self):\n",
    "    self.state = State.DISPLAY"
   ]
  },
  {
   "cell_type": "code",
   "execution_count": 30,
   "id": "expanded-wallace",
   "metadata": {},
   "outputs": [],
   "source": [
    "def update_outfit(board,dom):\n",
    "  if board.state == State.DISPLAY:\n",
    "    dom.disable_elements(FIELDS)\n",
    "    dom.disable_element(\"HideDisplay\")\n",
    "  elif board.state == State.EDIT:\n",
    "    dom.enable_elements(FIELDS)\n",
    "    dom.enable_elements(\"HideDisplay\")"
   ]
  },
  {
   "cell_type": "code",
   "execution_count": 31,
   "id": "attended-lodge",
   "metadata": {},
   "outputs": [],
   "source": [
    "def ac_connect(board,dom):\n",
    "  dom.inner(\"\",BODY)\n",
    "  display_contacts(dom)\n",
    "  board.state = State.DISPLAY\n",
    "  update_outfit(board,dom)\n",
    "\n",
    "callbacks[\"\"] = ac_connect"
   ]
  },
  {
   "cell_type": "code",
   "execution_count": 32,
   "id": "psychological-prospect",
   "metadata": {},
   "outputs": [],
   "source": [
    "def ac_select(board,dom,id):\n",
    "  display_contact(int(id),dom)\n",
    "  board.state = State.DISPLAY\n",
    "  update_outfit(board,dom)\n",
    "    \n",
    "callbacks[\"Select\"] = ac_select"
   ]
  },
  {
   "cell_type": "code",
   "execution_count": 33,
   "id": "adult-trinidad",
   "metadata": {},
   "outputs": [],
   "source": [
    "EMPTY_CONTACT = {\n",
    "  \"Name\": \"\",\n",
    "  \"Address\": \"\",\n",
    "  \"Phone\": \"\",\n",
    "  \"Note\": \"\"\n",
    "}"
   ]
  },
  {
   "cell_type": "code",
   "execution_count": 34,
   "id": "third-accordance",
   "metadata": {},
   "outputs": [],
   "source": [
    "def display_contact(contactId,dom):\n",
    "  dom.set_values(EMPTY_CONTACT if contactId == None else contacts[contactId])"
   ]
  },
  {
   "cell_type": "code",
   "execution_count": 35,
   "id": "elementary-algebra",
   "metadata": {},
   "outputs": [],
   "source": [
    "def ac_new(board,dom):\n",
    "  board.state = State.EDIT\n",
    "  display_contact(None,dom)\n",
    "  update_outfit(board,dom)\n",
    "  dom.focus(\"Name\")\n",
    "\n",
    "callbacks[\"New\"] = ac_new"
   ]
  },
  {
   "cell_type": "code",
   "execution_count": 36,
   "id": "found-morgan",
   "metadata": {},
   "outputs": [
    {
     "name": "stdout",
     "output_type": "stream",
     "text": [
      "Connection to 'faas1.q37.info:53700'...\n",
      "Connected to 'faas1.q37.info:53700'.\n",
      "\n",
      "****************************************************************************\n",
      "     Your application is connected to the free public server. Welcome!\n",
      "     THIS SERVICE IS PROVIDED \"AS IS\", WITHOUT WARRANTY OF ANY KIND,\n",
      "     EXPRESS OR IMPLIED. THE USE OF THIS SERVICE IS AT YOUR OWN RISK.\n",
      "****************************************************************************\n",
      "                    \n",
      "http://faas1.q37.info/xdh.php?_token=969864af-0a72-4707-b82f-30a3854fe88c\n",
      "^^^^^^^^^^^^^^^^^^^^^^^^^^^^^^^^^^^^^^^^^^^^^^^^^^^^^^^^^^^^^^^^^^^^^^^^^\n",
      "Open above URL in a web browser (click, right click or copy/paste). Enjoy!\n",
      "\n"
     ]
    },
    {
     "data": {
      "text/html": [
       "\n",
       "        <iframe\n",
       "            width=\"100%\"\n",
       "            height=\"500px\"\n",
       "            src=\"https://faas1.q37.info/xdh.php?_token=969864af-0a72-4707-b82f-30a3854fe88c\"\n",
       "            frameborder=\"0\"\n",
       "            allowfullscreen\n",
       "        ></iframe>\n",
       "        "
      ],
      "text/plain": [
       "<IPython.lib.display.IFrame at 0x7faaac05b588>"
      ]
     },
     "execution_count": 36,
     "metadata": {},
     "output_type": "execute_result"
    }
   ],
   "source": [
    "atlastk.launch(callbacks,Board)"
   ]
  },
  {
   "cell_type": "code",
   "execution_count": 37,
   "id": "south-dancing",
   "metadata": {},
   "outputs": [],
   "source": [
    "def update_outfit(board,dom):\n",
    "  if board.state == State.DISPLAY:\n",
    "    dom.disable_elements(FIELDS)\n",
    "    dom.disable_element(\"HideDisplay\")\n",
    "    dom.enable_element(\"HideEdition\")\n",
    "  elif board.state == State.EDIT:\n",
    "    dom.enable_elements(FIELDS)\n",
    "    dom.enable_element(\"HideDisplay\")\n",
    "    dom.disable_element(\"HideEdition\")"
   ]
  },
  {
   "cell_type": "code",
   "execution_count": 38,
   "id": "distributed-phoenix",
   "metadata": {},
   "outputs": [],
   "source": [
    "def ac_cancel(board,dom):\n",
    "  if dom.confirm(\"Are you sure?\"):\n",
    "    display_contact(None,dom)\n",
    "    board.state = State.DISPLAY\n",
    "    update_outfit(board,dom)\n",
    "    \n",
    "callbacks[\"Cancel\"] = ac_cancel"
   ]
  },
  {
   "cell_type": "code",
   "execution_count": 39,
   "id": "studied-vitamin",
   "metadata": {},
   "outputs": [],
   "source": [
    "def ac_submit(board,dom):\n",
    "  idsAndValues = dom.get_values(FIELDS)\n",
    "\n",
    "  if not idsAndValues['Name'].strip():\n",
    "    dom.alert(\"The name field can not be empty!\")\n",
    "  else:\n",
    "    board.state = State.DISPLAY\n",
    "    contacts.append(idsAndValues)\n",
    "    display_contact(None,dom)\n",
    "    display_contacts(dom)\n",
    "    update_outfit(board,dom)\n",
    "    \n",
    "callbacks[\"Submit\"] = ac_submit"
   ]
  },
  {
   "cell_type": "code",
   "execution_count": 40,
   "id": "romance-economics",
   "metadata": {},
   "outputs": [
    {
     "name": "stdout",
     "output_type": "stream",
     "text": [
      "Connection to 'faas1.q37.info:53700'...\n",
      "Connected to 'faas1.q37.info:53700'.\n",
      "\n",
      "****************************************************************************\n",
      "     Your application is connected to the free public server. Welcome!\n",
      "     THIS SERVICE IS PROVIDED \"AS IS\", WITHOUT WARRANTY OF ANY KIND,\n",
      "     EXPRESS OR IMPLIED. THE USE OF THIS SERVICE IS AT YOUR OWN RISK.\n",
      "****************************************************************************\n",
      "                    \n",
      "http://faas1.q37.info/xdh.php?_token=204387ff-4cb6-40f5-b419-c73ce0f0d59c\n",
      "^^^^^^^^^^^^^^^^^^^^^^^^^^^^^^^^^^^^^^^^^^^^^^^^^^^^^^^^^^^^^^^^^^^^^^^^^\n",
      "Open above URL in a web browser (click, right click or copy/paste). Enjoy!\n",
      "\n"
     ]
    },
    {
     "data": {
      "text/html": [
       "\n",
       "        <iframe\n",
       "            width=\"100%\"\n",
       "            height=\"500px\"\n",
       "            src=\"https://faas1.q37.info/xdh.php?_token=204387ff-4cb6-40f5-b419-c73ce0f0d59c\"\n",
       "            frameborder=\"0\"\n",
       "            allowfullscreen\n",
       "        ></iframe>\n",
       "        "
      ],
      "text/plain": [
       "<IPython.lib.display.IFrame at 0x7faaac05ea20>"
      ]
     },
     "execution_count": 40,
     "metadata": {},
     "output_type": "execute_result"
    }
   ],
   "source": [
    "atlastk.launch(callbacks,Board)"
   ]
  },
  {
   "cell_type": "code",
   "execution_count": 41,
   "id": "digital-equipment",
   "metadata": {},
   "outputs": [],
   "source": [
    "class Board:\n",
    "  def __init__(self):\n",
    "    self.state = State.DISPLAY\n",
    "    self.contactId = None"
   ]
  },
  {
   "cell_type": "code",
   "execution_count": 42,
   "id": "pointed-underground",
   "metadata": {},
   "outputs": [],
   "source": [
    "def ac_select(board,dom,id):\n",
    "  board.contactId = int(id)\n",
    "  display_contact(board.contactId,dom)  \n",
    "  board.state = State.DISPLAY\n",
    "  update_outfit(board,dom)\n",
    "    \n",
    "callbacks[\"Select\"] = ac_select"
   ]
  },
  {
   "cell_type": "code",
   "execution_count": 43,
   "id": "usual-cyprus",
   "metadata": {},
   "outputs": [],
   "source": [
    "def update_outfit(board,dom):\n",
    "  if board.state == State.DISPLAY:\n",
    "    dom.disable_elements(FIELDS)\n",
    "    dom.disable_element(\"HideDisplay\")\n",
    "    dom.enable_element(\"HideEdition\")\n",
    "    if board.contactId == None:\n",
    "      dom.enable_element(\"HideDisplayAndSelect\")\n",
    "    else:\n",
    "      dom.disable_element(\"HideDisplayAndSelect\")\n",
    "  elif board.state == State.EDIT:\n",
    "    dom.enable_elements(FIELDS)\n",
    "    dom.enable_elements((\"HideDisplay\",\"HideDisplayAndSelect\"))\n",
    "    dom.disable_element(\"HideEdition\")"
   ]
  },
  {
   "cell_type": "code",
   "execution_count": 44,
   "id": "vanilla-compensation",
   "metadata": {},
   "outputs": [],
   "source": [
    "def ac_edit(board,dom):\n",
    "  board.state = State.EDIT\n",
    "  display_contact(board.contactId,dom)\n",
    "  update_outfit(board,dom)\n",
    "  dom.focus(\"Name\")\n",
    "    \n",
    "callbacks[\"Edit\"] = ac_edit"
   ]
  },
  {
   "cell_type": "code",
   "execution_count": 45,
   "id": "virtual-episode",
   "metadata": {},
   "outputs": [],
   "source": [
    "def ac_cancel(board,dom):\n",
    "  if dom.confirm(\"Are you sure?\"):\n",
    "    display_contact(board.contactId,dom)\n",
    "    board.state = State.DISPLAY\n",
    "    update_outfit(board,dom)\n",
    "    \n",
    "callbacks[\"Cancel\"]=ac_cancel"
   ]
  },
  {
   "cell_type": "code",
   "execution_count": 46,
   "id": "suburban-suspect",
   "metadata": {},
   "outputs": [],
   "source": [
    "def ac_submit(board,dom):\n",
    "  idsAndValues = dom.get_values(FIELDS)\n",
    "\n",
    "  if not idsAndValues['Name'].strip():\n",
    "    dom.alert(\"The name field can not be empty!\")\n",
    "  else:\n",
    "    board.state = State.DISPLAY\n",
    "    if board.contactId == None:\n",
    "      contacts.append(idsAndValues)\n",
    "    else:\n",
    "      contacts[board.contactId] = idsAndValues\n",
    "    display_contact(board.contactId,dom)\n",
    "    display_contacts(dom)\n",
    "    update_outfit(board,dom)\n",
    "    \n",
    "callbacks[\"Submit\"]=ac_submit    "
   ]
  },
  {
   "cell_type": "code",
   "execution_count": 47,
   "id": "forbidden-fields",
   "metadata": {},
   "outputs": [],
   "source": [
    "def ac_delete(board,dom):\n",
    "  contacts.pop(board.contactId)\n",
    "  board.contactId = None;\n",
    "  display_contact(None,dom)\n",
    "  display_contacts(dom)\n",
    "  update_outfit(board,dom)\n",
    "\n",
    "callbacks[\"Delete\"] = ac_delete"
   ]
  },
  {
   "cell_type": "code",
   "execution_count": 48,
   "id": "conscious-syndication",
   "metadata": {},
   "outputs": [
    {
     "name": "stdout",
     "output_type": "stream",
     "text": [
      "Connection to 'faas1.q37.info:53700'...\n",
      "Connected to 'faas1.q37.info:53700'.\n",
      "\n",
      "****************************************************************************\n",
      "     Your application is connected to the free public server. Welcome!\n",
      "     THIS SERVICE IS PROVIDED \"AS IS\", WITHOUT WARRANTY OF ANY KIND,\n",
      "     EXPRESS OR IMPLIED. THE USE OF THIS SERVICE IS AT YOUR OWN RISK.\n",
      "****************************************************************************\n",
      "                    \n",
      "http://faas1.q37.info/xdh.php?_token=09edfdc5-9bf4-4e50-ac68-1184a5f258a3\n",
      "^^^^^^^^^^^^^^^^^^^^^^^^^^^^^^^^^^^^^^^^^^^^^^^^^^^^^^^^^^^^^^^^^^^^^^^^^\n",
      "Open above URL in a web browser (click, right click or copy/paste). Enjoy!\n",
      "\n"
     ]
    },
    {
     "data": {
      "text/html": [
       "\n",
       "        <iframe\n",
       "            width=\"100%\"\n",
       "            height=\"500px\"\n",
       "            src=\"https://faas1.q37.info/xdh.php?_token=09edfdc5-9bf4-4e50-ac68-1184a5f258a3\"\n",
       "            frameborder=\"0\"\n",
       "            allowfullscreen\n",
       "        ></iframe>\n",
       "        "
      ],
      "text/plain": [
       "<IPython.lib.display.IFrame at 0x7faaac05ec88>"
      ]
     },
     "execution_count": 48,
     "metadata": {},
     "output_type": "execute_result"
    }
   ],
   "source": [
    "atlastk.launch(callbacks,Board)"
   ]
  },
  {
   "cell_type": "code",
   "execution_count": 49,
   "id": "better-congo",
   "metadata": {},
   "outputs": [],
   "source": [
    "def ac_refresh(board,dom):\n",
    "  display_contacts(dom)\n",
    "\n",
    "callbacks[\"Refresh\"] = ac_refresh"
   ]
  },
  {
   "cell_type": "code",
   "execution_count": 50,
   "id": "tired-terrace",
   "metadata": {},
   "outputs": [],
   "source": [
    "def ac_submit(board,dom):\n",
    "  idsAndValues = dom.get_values(FIELDS)\n",
    "\n",
    "  if not idsAndValues['Name'].strip():\n",
    "    dom.alert(\"The name field can not be empty!\")\n",
    "  else:\n",
    "    board.state = State.DISPLAY\n",
    "    if board.contactId == None:\n",
    "      contacts.append(idsAndValues)\n",
    "    else:\n",
    "      contacts[board.contactId] = idsAndValues\n",
    "    display_contact(board.contactId,dom)\n",
    "    atlastk.broadcast_action(\"Refresh\")\n",
    "    update_outfit(board,dom)\n",
    "    \n",
    "callbacks[\"Submit\"] = ac_submit"
   ]
  },
  {
   "cell_type": "code",
   "execution_count": 51,
   "id": "wanted-victor",
   "metadata": {},
   "outputs": [],
   "source": [
    "def ac_delete(board,dom):\n",
    "  contacts.pop(board.contactId)\n",
    "  board.contactId = None;\n",
    "  display_contact(None,dom)\n",
    "  atlastk.broadcast_action(\"Refresh\")\n",
    "  update_outfit(board,dom)\n",
    "\n",
    "callbacks[\"Delete\"] = ac_delete"
   ]
  },
  {
   "cell_type": "code",
   "execution_count": 52,
   "id": "minus-likelihood",
   "metadata": {},
   "outputs": [
    {
     "name": "stdout",
     "output_type": "stream",
     "text": [
      "Connection to 'faas1.q37.info:53700'...\n",
      "Connected to 'faas1.q37.info:53700'.\n",
      "\n",
      "****************************************************************************\n",
      "     Your application is connected to the free public server. Welcome!\n",
      "     THIS SERVICE IS PROVIDED \"AS IS\", WITHOUT WARRANTY OF ANY KIND,\n",
      "     EXPRESS OR IMPLIED. THE USE OF THIS SERVICE IS AT YOUR OWN RISK.\n",
      "****************************************************************************\n",
      "                    \n",
      "http://faas1.q37.info/xdh.php?_token=13654f2c-e4d2-4c80-b819-bcfda6c806a1\n",
      "^^^^^^^^^^^^^^^^^^^^^^^^^^^^^^^^^^^^^^^^^^^^^^^^^^^^^^^^^^^^^^^^^^^^^^^^^\n",
      "Open above URL in a web browser (click, right click or copy/paste). Enjoy!\n",
      "\n"
     ]
    },
    {
     "data": {
      "text/html": [
       "\n",
       "        <iframe\n",
       "            width=\"100%\"\n",
       "            height=\"500px\"\n",
       "            src=\"https://faas1.q37.info/xdh.php?_token=13654f2c-e4d2-4c80-b819-bcfda6c806a1\"\n",
       "            frameborder=\"0\"\n",
       "            allowfullscreen\n",
       "        ></iframe>\n",
       "        "
      ],
      "text/plain": [
       "<IPython.lib.display.IFrame at 0x7faaac06e978>"
      ]
     },
     "execution_count": 52,
     "metadata": {},
     "output_type": "execute_result"
    }
   ],
   "source": [
    "atlastk.launch(callbacks,Board)"
   ]
  },
  {
   "cell_type": "code",
   "execution_count": null,
   "id": "ambient-desktop",
   "metadata": {},
   "outputs": [],
   "source": []
  }
 ],
 "metadata": {
  "kernelspec": {
   "display_name": "Python 3",
   "language": "python",
   "name": "python3"
  },
  "language_info": {
   "codemirror_mode": {
    "name": "ipython",
    "version": 3
   },
   "file_extension": ".py",
   "mimetype": "text/x-python",
   "name": "python",
   "nbconvert_exporter": "python",
   "pygments_lexer": "ipython3",
   "version": "3.6.9"
  }
 },
 "nbformat": 4,
 "nbformat_minor": 5
}
