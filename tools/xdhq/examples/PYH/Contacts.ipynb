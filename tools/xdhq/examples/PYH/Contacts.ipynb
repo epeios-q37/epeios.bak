{
 "cells": [
  {
   "cell_type": "markdown",
   "id": "adjustable-doctor",
   "metadata": {},
   "source": [
    "**If you haven't already done so, please take a look at this [FAQ](https://q37.info/s/kqsb3gmg), especially if you run this notebook on *Google* *Colab*.**"
   ]
  },
  {
   "cell_type": "markdown",
   "id": "australian-butler",
   "metadata": {},
   "source": [
    "If the [*atlastk*](http://atlastk.org) module is not installed, it will be installed from [*Pypi*](https://q37.info/s/9srmskcm).\n",
    "\n",
    "Don't worry, it's a very lightweight package (~20 Ko), and it has no dependencies…"
   ]
  },
  {
   "cell_type": "code",
   "execution_count": null,
   "id": "broad-tracker",
   "metadata": {},
   "outputs": [],
   "source": [
    "try:\n",
    "  import atlastk\n",
    "except:\n",
    "  !pip install atlastk\n",
    "  import atlastk\n",
    "\n",
    "atlastk.setJupyterHeight(\"500px\") # Adjusting the height of the iframe in which the application will be displayed…"
   ]
  },
  {
   "cell_type": "code",
   "execution_count": null,
   "id": "floral-intelligence",
   "metadata": {},
   "outputs": [],
   "source": [
    "BODY = \"\"\"\n",
    "<fieldset>\n",
    "  <fieldset id=\"Contact\">\n",
    "    <table style=\"margin: auto;\">\n",
    "      <tr>\n",
    "        <td>\n",
    "          <label for=\"Name\">Full name:</label>\n",
    "        </td>\n",
    "        <td>\n",
    "          <input id=\"Name\" size=\"50\" />\n",
    "        </td>\n",
    "      </tr>\n",
    "      <tr>\n",
    "        <td>\n",
    "          <label for=\"Address\">Address:</label>\n",
    "        </td>\n",
    "        <td>\n",
    "          <input id=\"Address\" size=\"50\" />\n",
    "        </td>\n",
    "      </tr>\n",
    "      <tr>\n",
    "        <td>\n",
    "          <label for=\"Phone\">Phone:</label>\n",
    "        </td>\n",
    "        <td>\n",
    "          <input id=\"Phone\" type=\"tel\" size=\"50\" />\n",
    "        </td>\n",
    "      </tr>\n",
    "      <tr>\n",
    "        <td>\n",
    "          <label for=\"Note\">Note:</label>\n",
    "        </td>\n",
    "        <td>\n",
    "          <textarea id=\"Note\" style=\"width: 100%;\"></textarea>\n",
    "        </td>\n",
    "      </tr>\n",
    "    </table>\n",
    "  </fieldset>\n",
    "  <div style=\"display: table; margin: 10px auto auto auto;\">\n",
    "    <div>\n",
    "      <button class=\"Display\" data-xdh-onevent=\"New\">New</button>\n",
    "      <span class=\"DisplayAndSelect\">\n",
    "        <button data-xdh-onevent=\"Edit\">Edit</button>\n",
    "        <button data-xdh-onevent=\"Delete\">Delete</button>\n",
    "      </span>\n",
    "    </div>\n",
    "    <div class=\"Edition\">\n",
    "      <button data-xdh-onevent=\"Cancel\">Cancel</button>\n",
    "      <button data-xdh-onevent=\"Submit\">Submit</button>\n",
    "    </div>\n",
    "  </div>\n",
    "</fieldset>\n",
    "<div style=\"display: table; margin: 10px auto auto auto; border-collapse: collapse;\">\n",
    "  <table id=\"Contacts\" style=\"cursor: default; border-collapse: collapse;\">\n",
    "    <thead>\n",
    "      <th>Name</th>\n",
    "      <th>Address</th>\n",
    "      <th>Phone</th>\n",
    "      <th>Note</th>\n",
    "    </thead>\n",
    "    <tbody id=\"Content\" />\n",
    "  </table>\n",
    "</div>\n",
    "\"\"\""
   ]
  },
  {
   "cell_type": "code",
   "execution_count": null,
   "id": "endless-cancellation",
   "metadata": {},
   "outputs": [],
   "source": [
    "HEAD = \"\"\"\n",
    "<title>Address book</title>\n",
    "<link rel=\"icon\" type=\"image/png\"\n",
    "  href=\"data:image/png;base64,iVBORw0KGgoAAAANSUhEUgAAACAAAAAgBAMAAACBVGfHAAAAMFBMVEUEAvyEhsxERuS8urQsKuycnsRkYtzc2qwUFvRUVtysrrx0ctTs6qTMyrSUksQ0NuyciPBdAAABHklEQVR42mNgwAa8zlxjDd2A4POfOXPmzZkFCAH2M8fNzyALzDlzg2ENssCbMwkMOsgCa858YOjBKxBzRoHhD7LAHiBH5swCT9HQ6A9ggZ4zp7YCrV0DdM6pBpAAG5Blc2aBDZA68wCsZPuZU0BDH07xvHOmAGKKvgMP2NA/Zw7ADIYJXGDgLQeBBSCBFu0aoAPYQUadMQAJAE29zwAVWMCWpgB08ZnDQGsbGhpsgCqBQHNfzRkDEIPlzFmo0T5nzoMovjPHoAK8Zw5BnA5yDosDSAVYQOYMKIDZzkoDzagAsjhqzjRAfXTmzAQgi/vMQZA6pjtAvhEk0E+ATWRRm6YBZuScCUCNN5szH1D4TGdOoSrggtiNAH3vBBjwAQCglIrSZkf1MQAAAABJRU5ErkJggg==\" />\n",
    "<style>\n",
    "  #Contact label {\n",
    "    font-weight: bold;\n",
    "  }\n",
    "\n",
    "  #Contact span {\n",
    "    text-align: left;\n",
    "  }\n",
    "\n",
    "  #Contacts th,\n",
    "  #Contacts td {\n",
    "    border: 1px solid black;\n",
    "    padding: 0% 5px;\n",
    "  }\n",
    "\n",
    "  #Contacts td:nth-child(3) {\n",
    "    text-align: right;\n",
    "  }\n",
    "\n",
    "  #Contacts tr:nth-child(even)\n",
    "  {\n",
    "    background: #CCC\n",
    "  }\n",
    "\n",
    "  #Contacts tr:nth-child(odd)\n",
    "  {\n",
    "    background: #FFF\n",
    "  }\n",
    "\n",
    "  #Contact *:disabled {\n",
    "    background-color: snow;\n",
    "    color: initial;\n",
    "  }\n",
    "</style>\n",
    "<style id=\"HideDisplay\">\n",
    "  .Display {\n",
    "    display: none;\n",
    "  }\n",
    "</style>\n",
    "<style id=\"HideDisplayAndSelect\">\n",
    "  .DisplayAndSelect {\n",
    "    display: none;\n",
    "  }\n",
    "</style>\n",
    "<style id=\"HideEdition\">\n",
    "  .Edition {\n",
    "    display: none;\n",
    "  }\n",
    "</style>\n",
    "\"\"\""
   ]
  },
  {
   "cell_type": "code",
   "execution_count": null,
   "id": "female-preliminary",
   "metadata": {},
   "outputs": [],
   "source": [
    "def ac_connect(dom):\n",
    "  dom.inner(\"\",BODY)\n",
    "\n",
    "callbacks = {\n",
    "    \"\": ac_connect \n",
    "} \n",
    "\n",
    "atlastk.launch(callbacks,headContent = HEAD)"
   ]
  },
  {
   "cell_type": "code",
   "execution_count": null,
   "id": "willing-jersey",
   "metadata": {},
   "outputs": [],
   "source": [
    "EXAMPLE = [\n",
    "  {\n",
    "    \"Name\": \"Holmes, Sherlock\",\n",
    "    \"Address\": \"221B Baker Street, Londres\",\n",
    "    \"Phone\": \"(use telegraph)\",\n",
    "    \"Note\": \"Great detective!\"\n",
    "  },\n",
    "  {\n",
    "    \"Name\": \"Holmes, Mycroft\",\n",
    "    \"Address\": \"Diogenes Club, Pall Mall, Londres\",\n",
    "    \"Phone\": \"(use telegraph)\",\n",
    "    \"Note\": \"Works for the British government.\\nBrother of Holmes, Sherlock.\"\n",
    "  },\n",
    "  {\n",
    "    \"Name\": \"Tintin\",\n",
    "    \"Address\": \"Château de Moulinsart\",\n",
    "    \"Phone\": \"421\",\n",
    "    \"Note\": \"Has a dog named Snowy.\"\n",
    "  },\n",
    "  {\n",
    "    \"Name\": \"Tournesol, Tryphon (prof.)\",\n",
    "    \"Address\": \"Château de Moulinsart\",\n",
    "    \"Phone\": \"421\",\n",
    "    \"Note\": \"Creator of the Bianca rose.\"\n",
    "  }\n",
    "]\n",
    "\n",
    "contacts = EXAMPLE"
   ]
  },
  {
   "cell_type": "code",
   "execution_count": null,
   "id": "specified-static",
   "metadata": {},
   "outputs": [],
   "source": [
    "def display_contacts(dom):\n",
    "  html = \"\"\n",
    "\n",
    "  for contactId in range(len(contacts)):\n",
    "    contact = contacts[contactId]\n",
    "    html += f'<tr id=\"{contactId}\" data-xdh-onevent=\"Select\" style=\"cursor: pointer;\">'\n",
    "    for key in contact:\n",
    "      html += f'<td>{contact[key]}</td>'\n",
    "    html += '</td>'\n",
    "\n",
    "  dom.inner(\"Content\", html)"
   ]
  },
  {
   "cell_type": "code",
   "execution_count": null,
   "id": "powered-fellow",
   "metadata": {},
   "outputs": [],
   "source": [
    "def ac_connect(dom):\n",
    "  dom.inner(\"\",BODY)\n",
    "  display_contacts(dom)\n",
    "    \n",
    "callbacks[\"\"] = ac_connect"
   ]
  },
  {
   "cell_type": "code",
   "execution_count": null,
   "id": "heard-sweet",
   "metadata": {},
   "outputs": [],
   "source": [
    "atlastk.launch(callbacks, headContent = HEAD)"
   ]
  },
  {
   "cell_type": "code",
   "execution_count": null,
   "id": "agricultural-walter",
   "metadata": {},
   "outputs": [],
   "source": [
    "def display_contact(contactId,dom):\n",
    "  dom.set_values(contacts[contactId])"
   ]
  },
  {
   "cell_type": "code",
   "execution_count": null,
   "id": "outdoor-blink",
   "metadata": {},
   "outputs": [],
   "source": [
    "def ac_select(dom,id):\n",
    "  display_contact(int(id),dom)\n",
    "\n",
    "callbacks[\"Select\"] = ac_select"
   ]
  },
  {
   "cell_type": "code",
   "execution_count": null,
   "id": "complimentary-indian",
   "metadata": {},
   "outputs": [],
   "source": [
    "atlastk.launch(callbacks, headContent = HEAD)"
   ]
  },
  {
   "cell_type": "code",
   "execution_count": null,
   "id": "figured-portfolio",
   "metadata": {},
   "outputs": [],
   "source": [
    "FIELDS = [\n",
    "  \"Name\",\n",
    "  \"Address\",\n",
    "  \"Phone\",\n",
    "  \"Note\"\n",
    "]"
   ]
  },
  {
   "cell_type": "code",
   "execution_count": null,
   "id": "ultimate-lewis",
   "metadata": {},
   "outputs": [],
   "source": [
    "def update_outfit(dom):\n",
    "  dom.disable_elements(FIELDS)\n",
    "  dom.disable_element(\"HideDisplay\")"
   ]
  },
  {
   "cell_type": "code",
   "execution_count": null,
   "id": "cellular-screening",
   "metadata": {},
   "outputs": [],
   "source": [
    "def ac_connect(dom):\n",
    "  dom.inner(\"\",BODY)\n",
    "  display_contacts(dom)\n",
    "  update_outfit(dom)\n",
    "\n",
    "callbacks[\"\"] = ac_connect"
   ]
  },
  {
   "cell_type": "code",
   "execution_count": null,
   "id": "forward-guard",
   "metadata": {},
   "outputs": [],
   "source": [
    "def ac_select(dom,id):\n",
    "  display_contact(int(id),dom)\n",
    "  update_outfit(dom)\n",
    "    \n",
    "callbacks[\"Select\"] = ac_select"
   ]
  },
  {
   "cell_type": "code",
   "execution_count": null,
   "id": "respiratory-tomorrow",
   "metadata": {},
   "outputs": [],
   "source": [
    "atlastk.launch(callbacks,headContent=HEAD)"
   ]
  },
  {
   "cell_type": "code",
   "execution_count": null,
   "id": "level-hearing",
   "metadata": {},
   "outputs": [],
   "source": [
    "import enum\n",
    "\n",
    "class State(enum.Enum):\n",
    "  DISPLAY = enum.auto() # Affichage\n",
    "  EDIT = enum.auto()    # Édition"
   ]
  },
  {
   "cell_type": "code",
   "execution_count": null,
   "id": "close-springfield",
   "metadata": {},
   "outputs": [],
   "source": [
    "class Board:\n",
    "  def __init__(self):\n",
    "    self.state = State.DISPLAY"
   ]
  },
  {
   "cell_type": "code",
   "execution_count": null,
   "id": "metric-novel",
   "metadata": {},
   "outputs": [],
   "source": [
    "def update_outfit(board,dom):\n",
    "  if board.state == State.DISPLAY:\n",
    "    dom.disable_elements(FIELDS)\n",
    "    dom.disable_element(\"HideDisplay\")\n",
    "  elif board.state == State.EDIT:\n",
    "    dom.enable_elements(FIELDS)\n",
    "    dom.enable_elements(\"HideDisplay\")"
   ]
  },
  {
   "cell_type": "code",
   "execution_count": null,
   "id": "terminal-pride",
   "metadata": {},
   "outputs": [],
   "source": [
    "def ac_connect(board,dom):\n",
    "  dom.inner(\"\",BODY)\n",
    "  display_contacts(dom)\n",
    "  board.state = State.DISPLAY\n",
    "  update_outfit(board,dom)\n",
    "\n",
    "callbacks[\"\"] = ac_connect"
   ]
  },
  {
   "cell_type": "code",
   "execution_count": null,
   "id": "plain-ridge",
   "metadata": {},
   "outputs": [],
   "source": [
    "def ac_select(board,dom,id):\n",
    "  display_contact(int(id),dom)\n",
    "  board.state = State.DISPLAY\n",
    "  update_outfit(board,dom)\n",
    "    \n",
    "callbacks[\"Select\"] = ac_select"
   ]
  },
  {
   "cell_type": "code",
   "execution_count": null,
   "id": "precise-salad",
   "metadata": {},
   "outputs": [],
   "source": [
    "EMPTY_CONTACT = {\n",
    "  \"Name\": \"\",\n",
    "  \"Address\": \"\",\n",
    "  \"Phone\": \"\",\n",
    "  \"Note\": \"\"\n",
    "}"
   ]
  },
  {
   "cell_type": "code",
   "execution_count": null,
   "id": "revised-classics",
   "metadata": {},
   "outputs": [],
   "source": [
    "def display_contact(contactId,dom):\n",
    "  dom.set_values(EMPTY_CONTACT if contactId == None else contacts[contactId])"
   ]
  },
  {
   "cell_type": "code",
   "execution_count": null,
   "id": "paperback-silver",
   "metadata": {},
   "outputs": [],
   "source": [
    "def ac_new(board,dom):\n",
    "  board.state = State.EDIT\n",
    "  display_contact(None,dom)\n",
    "  update_outfit(board,dom)\n",
    "  dom.focus(\"Name\")\n",
    "\n",
    "callbacks[\"New\"] = ac_new"
   ]
  },
  {
   "cell_type": "code",
   "execution_count": null,
   "id": "planned-ottawa",
   "metadata": {},
   "outputs": [],
   "source": [
    "atlastk.launch(callbacks,Board,headContent=HEAD)"
   ]
  },
  {
   "cell_type": "code",
   "execution_count": null,
   "id": "moved-search",
   "metadata": {},
   "outputs": [],
   "source": [
    "def update_outfit(board,dom):\n",
    "  if board.state == State.DISPLAY:\n",
    "    dom.disable_elements(FIELDS)\n",
    "    dom.disable_element(\"HideDisplay\")\n",
    "    dom.enable_element(\"HideEdition\")\n",
    "  elif board.state == State.EDIT:\n",
    "    dom.enable_elements(FIELDS)\n",
    "    dom.enable_element(\"HideDisplay\")\n",
    "    dom.disable_element(\"HideEdition\")"
   ]
  },
  {
   "cell_type": "code",
   "execution_count": null,
   "id": "given-catalyst",
   "metadata": {},
   "outputs": [],
   "source": [
    "def ac_cancel(board,dom):\n",
    "  if dom.confirm(\"Are you sure?\"):\n",
    "    display_contact(None,dom)\n",
    "    board.state = State.DISPLAY\n",
    "    update_outfit(board,dom)\n",
    "    \n",
    "callbacks[\"Cancel\"] = ac_cancel"
   ]
  },
  {
   "cell_type": "code",
   "execution_count": null,
   "id": "strange-latest",
   "metadata": {},
   "outputs": [],
   "source": [
    "def ac_submit(board,dom):\n",
    "  idsAndValues = dom.get_values(FIELDS)\n",
    "\n",
    "  if not idsAndValues['Name'].strip():\n",
    "    dom.alert(\"The name field can not be empty!\")\n",
    "  else:\n",
    "    board.state = State.DISPLAY\n",
    "    contacts.append(idsAndValues)\n",
    "    display_contact(None,dom)\n",
    "    display_contacts(dom)\n",
    "    update_outfit(board,dom)\n",
    "    \n",
    "callbacks[\"Submit\"] = ac_submit"
   ]
  },
  {
   "cell_type": "code",
   "execution_count": null,
   "id": "fiscal-supervisor",
   "metadata": {},
   "outputs": [],
   "source": [
    "atlastk.launch(callbacks,Board,headContent=HEAD)"
   ]
  },
  {
   "cell_type": "code",
   "execution_count": null,
   "id": "breeding-preserve",
   "metadata": {},
   "outputs": [],
   "source": [
    "class Board:\n",
    "  def __init__(self):\n",
    "    self.state = State.DISPLAY\n",
    "    self.contactId = None"
   ]
  },
  {
   "cell_type": "code",
   "execution_count": null,
   "id": "chinese-essay",
   "metadata": {},
   "outputs": [],
   "source": [
    "def ac_select(board,dom,id):\n",
    "  board.contactId = int(id)\n",
    "  display_contact(board.contactId,dom)  \n",
    "  board.state = State.DISPLAY\n",
    "  update_outfit(board,dom)\n",
    "    \n",
    "callbacks[\"Select\"] = ac_select"
   ]
  },
  {
   "cell_type": "code",
   "execution_count": null,
   "id": "handed-colleague",
   "metadata": {},
   "outputs": [],
   "source": [
    "def update_outfit(board,dom):\n",
    "  if board.state == State.DISPLAY:\n",
    "    dom.disable_elements(FIELDS)\n",
    "    dom.disable_element(\"HideDisplay\")\n",
    "    dom.enable_element(\"HideEdition\")\n",
    "    if board.contactId == None:\n",
    "      dom.enable_element(\"HideDisplayAndSelect\")\n",
    "    else:\n",
    "      dom.disable_element(\"HideDisplayAndSelect\")\n",
    "  elif board.state == State.EDIT:\n",
    "    dom.enable_elements(FIELDS)\n",
    "    dom.enable_elements((\"HideDisplay\",\"HideDisplayAndSelect\"))\n",
    "    dom.disable_element(\"HideEdition\")"
   ]
  },
  {
   "cell_type": "code",
   "execution_count": null,
   "id": "scheduled-camera",
   "metadata": {},
   "outputs": [],
   "source": [
    "def ac_edit(board,dom):\n",
    "  board.state = State.EDIT\n",
    "  display_contact(board.contactId,dom)\n",
    "  update_outfit(board,dom)\n",
    "  dom.focus(\"Name\")\n",
    "    \n",
    "callbacks[\"Edit\"] = ac_edit"
   ]
  },
  {
   "cell_type": "code",
   "execution_count": null,
   "id": "thorough-zambia",
   "metadata": {},
   "outputs": [],
   "source": [
    "def ac_cancel(board,dom):\n",
    "  if dom.confirm(\"Are you sure?\"):\n",
    "    display_contact(board.contactId,dom)\n",
    "    board.state = State.DISPLAY\n",
    "    update_outfit(board,dom)\n",
    "    \n",
    "callbacks[\"Cancel\"]=ac_cancel"
   ]
  },
  {
   "cell_type": "code",
   "execution_count": null,
   "id": "medieval-robert",
   "metadata": {},
   "outputs": [],
   "source": [
    "def ac_submit(board,dom):\n",
    "  idsAndValues = dom.get_values(FIELDS)\n",
    "\n",
    "  if not idsAndValues['Name'].strip():\n",
    "    dom.alert(\"The name field can not be empty!\")\n",
    "  else:\n",
    "    board.state = State.DISPLAY\n",
    "    if board.contactId == None:\n",
    "      contacts.append(idsAndValues)\n",
    "    else:\n",
    "      contacts[board.contactId] = idsAndValues\n",
    "    display_contact(board.contactId,dom)\n",
    "    display_contacts(dom)\n",
    "    update_outfit(board,dom)\n",
    "    \n",
    "callbacks[\"Submit\"]=ac_submit    "
   ]
  },
  {
   "cell_type": "code",
   "execution_count": null,
   "id": "basic-circular",
   "metadata": {},
   "outputs": [],
   "source": [
    "def ac_delete(board,dom):\n",
    "  contacts.pop(board.contactId)\n",
    "  board.contactId = None;\n",
    "  display_contact(None,dom)\n",
    "  display_contacts(dom)\n",
    "  update_outfit(board,dom)\n",
    "\n",
    "callbacks[\"Delete\"] = ac_delete"
   ]
  },
  {
   "cell_type": "code",
   "execution_count": null,
   "id": "suburban-filename",
   "metadata": {},
   "outputs": [],
   "source": [
    "atlastk.launch(callbacks,Board,headContent=HEAD)"
   ]
  },
  {
   "cell_type": "code",
   "execution_count": null,
   "id": "broad-forestry",
   "metadata": {},
   "outputs": [],
   "source": [
    "def ac_refresh(board,dom):\n",
    "  display_contacts(dom)\n",
    "\n",
    "callbacks[\"Refresh\"] = ac_refresh"
   ]
  },
  {
   "cell_type": "code",
   "execution_count": null,
   "id": "secondary-combine",
   "metadata": {},
   "outputs": [],
   "source": [
    "def ac_submit(board,dom):\n",
    "  idsAndValues = dom.get_values(FIELDS)\n",
    "\n",
    "  if not idsAndValues['Name'].strip():\n",
    "    dom.alert(\"The name field can not be empty!\")\n",
    "  else:\n",
    "    board.state = State.DISPLAY\n",
    "    if board.contactId == None:\n",
    "      contacts.append(idsAndValues)\n",
    "    else:\n",
    "      contacts[board.contactId] = idsAndValues\n",
    "    display_contact(board.contactId,dom)\n",
    "    atlastk.broadcast_action(\"Refresh\")\n",
    "    update_outfit(board,dom)\n",
    "    \n",
    "callbacks[\"Submit\"] = ac_submit"
   ]
  },
  {
   "cell_type": "code",
   "execution_count": null,
   "id": "superior-indonesia",
   "metadata": {},
   "outputs": [],
   "source": [
    "def ac_delete(board,dom):\n",
    "  contacts.pop(board.contactId)\n",
    "  board.contactId = None;\n",
    "  display_contact(None,dom)\n",
    "  atlastk.broadcast_action(\"Refresh\")\n",
    "  update_outfit(board,dom)\n",
    "\n",
    "callbacks[\"Delete\"] = ac_delete"
   ]
  },
  {
   "cell_type": "code",
   "execution_count": null,
   "id": "identical-mills",
   "metadata": {},
   "outputs": [],
   "source": [
    "atlastk.launch(callbacks,Board,headContent=HEAD)"
   ]
  }
 ],
 "metadata": {
  "kernelspec": {
   "display_name": "Python 3",
   "language": "python",
   "name": "python3"
  },
  "language_info": {
   "codemirror_mode": {
    "name": "ipython",
    "version": 3
   },
   "file_extension": ".py",
   "mimetype": "text/x-python",
   "name": "python",
   "nbconvert_exporter": "python",
   "pygments_lexer": "ipython3",
   "version": "3.6.9"
  }
 },
 "nbformat": 4,
 "nbformat_minor": 5
}
