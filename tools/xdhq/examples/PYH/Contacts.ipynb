{
 "cells": [
  {
   "cell_type": "markdown",
   "id": "russian-necessity",
   "metadata": {},
   "source": [
    "**If you haven't already done so, please take a look at this [FAQ](https://q37.info/s/kqsb3gmg), especially if you run this notebook on *Google* *Colab*.**"
   ]
  },
  {
   "cell_type": "markdown",
   "id": "gorgeous-theorem",
   "metadata": {},
   "source": [
    "This notebook will show the programmation, using the [*Atlas* toolkit](http://atlastk.org), of a basic contacts managing application, which will look like this:\n",
    "\n",
    "![Look of the 'Contacts' app](https://q37.info/s/39dr4tcr.png).\n",
    "\n",
    "This notebook will focus on the use of the *Atlas* toolkit; the reader is supposed to have basic knowledge of *Python* and *HTML*/*CSS*.\n",
    "\n"
   ]
  },
  {
   "cell_type": "markdown",
   "id": "innocent-conditions",
   "metadata": {},
   "source": [
    "If the [*atlastk*](http://atlastk.org) module is not installed, it will be installed from [*Pypi*](https://q37.info/s/9srmskcm).\n",
    "\n",
    "Don't worry, it's a very lightweight package (~20 Ko), and it has no dependencies…"
   ]
  },
  {
   "cell_type": "code",
   "execution_count": null,
   "id": "sacred-moment",
   "metadata": {},
   "outputs": [],
   "source": [
    "try:\n",
    "  import atlastk\n",
    "except:\n",
    "  !pip install atlastk\n",
    "  import atlastk\n",
    "\n",
    "atlastk.setJupyterHeight(\"500px\") # Adjusting the height of the iframe in which the application will be displayed…"
   ]
  },
  {
   "cell_type": "markdown",
   "id": "public-trash",
   "metadata": {},
   "source": [
    "Let's define a little function which will be useful to display *HTML code*."
   ]
  },
  {
   "cell_type": "code",
   "execution_count": null,
   "id": "rural-stage",
   "metadata": {},
   "outputs": [],
   "source": [
    "import IPython, base64\n",
    "\n",
    "def show(html,height):\n",
    "    return IPython.display.IFrame(f\"data:text/html;base64,{base64.b64encode(html.encode()).decode('utf-8') }\".replace(\"+\",\"%2B\"), \"100%\", f\"{height}px\")"
   ]
  },
  {
   "cell_type": "markdown",
   "id": "wired-maldives",
   "metadata": {},
   "source": [
    "We will now write the *HTML* code of the main page of the application, beginning with the part displaing a contact."
   ]
  },
  {
   "cell_type": "code",
   "execution_count": null,
   "id": "bronze-confidence",
   "metadata": {},
   "outputs": [],
   "source": [
    "BODY_CONTACT = \"\"\"\n",
    "<fieldset id=\"Contact\">\n",
    "  <table style=\"margin: auto;\">\n",
    "    <tr>\n",
    "      <td>\n",
    "        <label for=\"Name\">Full name:</label>\n",
    "      </td>\n",
    "      <td>\n",
    "        <input id=\"Name\" size=\"50\" />\n",
    "      </td>\n",
    "    </tr>\n",
    "    <tr>\n",
    "      <td>\n",
    "        <label for=\"Address\">Address:</label>\n",
    "      </td>\n",
    "      <td>\n",
    "        <input id=\"Address\" size=\"50\" />\n",
    "      </td>\n",
    "    </tr>\n",
    "    <tr>\n",
    "      <td>\n",
    "        <label for=\"Phone\">Phone:</label>\n",
    "      </td>\n",
    "      <td>\n",
    "        <input id=\"Phone\" type=\"tel\" size=\"50\" />\n",
    "      </td>\n",
    "    </tr>\n",
    "    <tr>\n",
    "      <td>\n",
    "        <label for=\"Note\">Note:</label>\n",
    "      </td>\n",
    "      <td>\n",
    "        <textarea id=\"Note\" style=\"width: 100%;\"></textarea>\n",
    "      </td>\n",
    "    </tr>\n",
    "  </table>\n",
    "</fieldset>\n",
    "\"\"\""
   ]
  },
  {
   "cell_type": "markdown",
   "id": "increasing-tulsa",
   "metadata": {},
   "source": [
    "Let's see what it looks like."
   ]
  },
  {
   "cell_type": "code",
   "execution_count": null,
   "id": "tropical-subscriber",
   "metadata": {},
   "outputs": [],
   "source": [
    "show(BODY_CONTACT,200)"
   ]
  },
  {
   "cell_type": "markdown",
   "id": "requested-galaxy",
   "metadata": {},
   "source": [
    "Let's now write the *HTML* code for the buttons.\n",
    "\n",
    "The lable od the `class` atributes refers to the apllications context:\n",
    "- `Display`: the application is in display mode,\n",
    "- `DisplayAndSelect`: the application is in display mode with, a contact being selected,\n",
    "- `Edition`: the application is in edition mode.\n",
    "\n",
    "A button or set of buttons (through a `div` element) with a given class has to be displayed when the application is in corresponding mode, or hide otherwise. This is done by modifying the rules of the class."
   ]
  },
  {
   "cell_type": "code",
   "execution_count": null,
   "id": "honest-nylon",
   "metadata": {},
   "outputs": [],
   "source": [
    "BODY_BUTTONS = \"\"\"\n",
    "<div style=\"display: table; margin: 10px auto auto auto;\">\n",
    "  <div>\n",
    "    <button class=\"Display\" data-xdh-onevent=\"New\">New</button>\n",
    "    <span class=\"DisplayAndSelect\">\n",
    "      <button data-xdh-onevent=\"Edit\">Edit</button>\n",
    "      <button data-xdh-onevent=\"Delete\">Delete</button>\n",
    "    </span>\n",
    "  </div>\n",
    "  <div class=\"Edition\">\n",
    "    <button data-xdh-onevent=\"Cancel\">Cancel</button>\n",
    "    <button data-xdh-onevent=\"Submit\">Submit</button>\n",
    "  </div>\n",
    "</div>\n",
    "\"\"\""
   ]
  },
  {
   "cell_type": "markdown",
   "id": "acute-underwear",
   "metadata": {},
   "source": [
    "Of course, not all buttons will be displayed together in the final app.; the code showing/hiding the buttons following the context will be seen later."
   ]
  },
  {
   "cell_type": "code",
   "execution_count": null,
   "id": "contained-administrator",
   "metadata": {},
   "outputs": [],
   "source": [
    "show(BODY_BUTTONS,100)"
   ]
  },
  {
   "cell_type": "markdown",
   "id": "important-poker",
   "metadata": {},
   "source": [
    "Now, both part together."
   ]
  },
  {
   "cell_type": "code",
   "execution_count": null,
   "id": "inappropriate-shopping",
   "metadata": {},
   "outputs": [],
   "source": [
    "BODY_FORM = f\"\"\"\n",
    "<fieldset>\n",
    "  {BODY_CONTACT}\n",
    "  {BODY_BUTTONS}\n",
    "</fieldset>    \n",
    "\"\"\""
   ]
  },
  {
   "cell_type": "code",
   "execution_count": null,
   "id": "british-ghost",
   "metadata": {},
   "outputs": [],
   "source": [
    "show(BODY_FORM,300)"
   ]
  },
  {
   "cell_type": "markdown",
   "id": "joined-separate",
   "metadata": {},
   "source": [
    "The *HTML* code displaying all the contacts."
   ]
  },
  {
   "cell_type": "code",
   "execution_count": null,
   "id": "opposite-prescription",
   "metadata": {
    "tags": []
   },
   "outputs": [],
   "source": [
    "BODY_CONTACTS = \"\"\"\n",
    "<div style=\"display: table; margin: 10px auto auto auto; border-collapse: collapse;\">\n",
    "  <table id=\"Contacts\" style=\"cursor: default; border-collapse: collapse;\">\n",
    "    <thead>\n",
    "      <th>Name</th>\n",
    "      <th>Address</th>\n",
    "      <th>Phone</th>\n",
    "      <th>Note</th>\n",
    "    </thead>\n",
    "    <tbody id=\"Content\" />\n",
    "  </table>\n",
    "</div>\n",
    "\"\"\""
   ]
  },
  {
   "cell_type": "markdown",
   "id": "brief-cemetery",
   "metadata": {},
   "source": [
    "Looks a little bit messy, but this will change with some content and *CSS* rules."
   ]
  },
  {
   "cell_type": "code",
   "execution_count": null,
   "id": "seventh-sodium",
   "metadata": {},
   "outputs": [],
   "source": [
    "show(BODY_CONTACTS,50)"
   ]
  },
  {
   "cell_type": "markdown",
   "id": "dated-socket",
   "metadata": {},
   "source": [
    "And the final *HTML* code."
   ]
  },
  {
   "cell_type": "code",
   "execution_count": null,
   "id": "offshore-tuesday",
   "metadata": {},
   "outputs": [],
   "source": [
    "BODY = BODY_FORM + BODY_CONTACTS"
   ]
  },
  {
   "cell_type": "markdown",
   "id": "periodic-philippines",
   "metadata": {},
   "source": [
    "Which will look like this:"
   ]
  },
  {
   "cell_type": "code",
   "execution_count": null,
   "id": "young-index",
   "metadata": {},
   "outputs": [],
   "source": [
    "show(BODY,350)"
   ]
  },
  {
   "cell_type": "markdown",
   "id": "brilliant-laugh",
   "metadata": {},
   "source": [
    "Now the *HTML* code which will be placed in the `head` section of the main *HTML* page, beginning with the appearance of the application."
   ]
  },
  {
   "cell_type": "code",
   "execution_count": null,
   "id": "suspected-haven",
   "metadata": {
    "tags": []
   },
   "outputs": [],
   "source": [
    "HEAD_LOOK = \"\"\"\n",
    "<title>Address book</title>\n",
    "<link rel=\"icon\" type=\"image/png\"\n",
    "  href=\"data:image/png;base64,iVBORw0KGgoAAAANSUhEUgAAACAAAAAgBAMAAACBVGfHAAAAMFBMVEUEAvyEhsxERuS8urQsKuycnsRkYtzc2qwUFvRUVtysrrx0ctTs6qTMyrSUksQ0NuyciPBdAAABHklEQVR42mNgwAa8zlxjDd2A4POfOXPmzZkFCAH2M8fNzyALzDlzg2ENssCbMwkMOsgCa858YOjBKxBzRoHhD7LAHiBH5swCT9HQ6A9ggZ4zp7YCrV0DdM6pBpAAG5Blc2aBDZA68wCsZPuZU0BDH07xvHOmAGKKvgMP2NA/Zw7ADIYJXGDgLQeBBSCBFu0aoAPYQUadMQAJAE29zwAVWMCWpgB08ZnDQGsbGhpsgCqBQHNfzRkDEIPlzFmo0T5nzoMovjPHoAK8Zw5BnA5yDosDSAVYQOYMKIDZzkoDzagAsjhqzjRAfXTmzAQgi/vMQZA6pjtAvhEk0E+ATWRRm6YBZuScCUCNN5szH1D4TGdOoSrggtiNAH3vBBjwAQCglIrSZkf1MQAAAABJRU5ErkJggg==\" />\n",
    "<style>\n",
    "  #Contact label {\n",
    "    font-weight: bold;\n",
    "  }\n",
    "\n",
    "  #Contact span {\n",
    "    text-align: left;\n",
    "  }\n",
    "\n",
    "  #Contacts th,\n",
    "  #Contacts td {\n",
    "    border: 1px solid black;\n",
    "    padding: 0% 5px;\n",
    "  }\n",
    "\n",
    "  #Contacts td:nth-child(3) {\n",
    "    text-align: right;\n",
    "  }\n",
    "\n",
    "  #Contacts tr:nth-child(even)\n",
    "  {\n",
    "    background: #CCC\n",
    "  }\n",
    "\n",
    "  #Contacts tr:nth-child(odd)\n",
    "  {\n",
    "    background: #FFF\n",
    "  }\n",
    "\n",
    "  #Contact *:disabled {\n",
    "    background-color: snow;\n",
    "    color: initial;\n",
    "  }\n",
    "</style>\n",
    "\"\"\""
   ]
  },
  {
   "cell_type": "markdown",
   "id": "supposed-borough",
   "metadata": {},
   "source": [
    "Following part are elements containing *CSS* rules which will be used to show/hide the buttons."
   ]
  },
  {
   "cell_type": "code",
   "execution_count": null,
   "id": "sixth-assets",
   "metadata": {
    "tags": []
   },
   "outputs": [],
   "source": [
    "HEAD_BUTTONS = \"\"\"\n",
    "<style id=\"HideDisplay\">\n",
    "  .Display {\n",
    "    display: none;\n",
    "  }\n",
    "</style>\n",
    "<style id=\"HideDisplayAndSelect\">\n",
    "  .DisplayAndSelect {\n",
    "    display: none;\n",
    "  }\n",
    "</style>\n",
    "<style id=\"HideEdition\">\n",
    "  .Edition {\n",
    "    display: none;\n",
    "  }\n",
    "</style>\n",
    "\"\"\""
   ]
  },
  {
   "cell_type": "markdown",
   "id": "professional-joining",
   "metadata": {},
   "source": [
    "Let's put both part together."
   ]
  },
  {
   "cell_type": "code",
   "execution_count": null,
   "id": "alleged-security",
   "metadata": {},
   "outputs": [],
   "source": [
    "HEAD = HEAD_LOOK + HEAD_BUTTONS"
   ]
  },
  {
   "cell_type": "markdown",
   "id": "nutritional-corruption",
   "metadata": {},
   "source": [
    "Let's now define the function which will be called on each new connection, and whch will display the application main page."
   ]
  },
  {
   "cell_type": "code",
   "execution_count": null,
   "id": "forced-tanzania",
   "metadata": {},
   "outputs": [],
   "source": [
    "def ac_connect(dom):\n",
    "  dom.inner(\"\",BODY) # The \"\" id refers to the root element."
   ]
  },
  {
   "cell_type": "markdown",
   "id": "optional-diamond",
   "metadata": {},
   "source": [
    "Let's assign this function to the connection action."
   ]
  },
  {
   "cell_type": "code",
   "execution_count": null,
   "id": "signed-sleeve",
   "metadata": {},
   "outputs": [],
   "source": [
    "callbacks = {\n",
    "    \"\": ac_connect # The \"\" action label is for the connection action, which will be called on each new connection.\n",
    "} "
   ]
  },
  {
   "cell_type": "markdown",
   "id": "increasing-netherlands",
   "metadata": {},
   "source": [
    "And let's launch the application. At this point, you cannot interact with the application."
   ]
  },
  {
   "cell_type": "code",
   "execution_count": null,
   "id": "appointed-dubai",
   "metadata": {},
   "outputs": [],
   "source": [
    "atlastk.launch(callbacks,headContent = HEAD)"
   ]
  },
  {
   "cell_type": "markdown",
   "id": "biblical-jonathan",
   "metadata": {},
   "source": [
    "Let's create a dictionnary which will act as a databse (the `contacts` variable) with some content as example."
   ]
  },
  {
   "cell_type": "code",
   "execution_count": null,
   "id": "therapeutic-european",
   "metadata": {},
   "outputs": [],
   "source": [
    "EXAMPLE = [\n",
    "  {\n",
    "    \"Name\": \"Holmes, Sherlock\",\n",
    "    \"Address\": \"221B Baker Street, Londres\",\n",
    "    \"Phone\": \"(use telegraph)\",\n",
    "    \"Note\": \"Great detective!\"\n",
    "  },\n",
    "  {\n",
    "    \"Name\": \"Holmes, Mycroft\",\n",
    "    \"Address\": \"Diogenes Club, Pall Mall, Londres\",\n",
    "    \"Phone\": \"(use telegraph)\",\n",
    "    \"Note\": \"Works for the British government.\\nBrother of Holmes, Sherlock.\"\n",
    "  },\n",
    "  {\n",
    "    \"Name\": \"Tintin\",\n",
    "    \"Address\": \"Château de Moulinsart\",\n",
    "    \"Phone\": \"421\",\n",
    "    \"Note\": \"Has a dog named Snowy.\"\n",
    "  },\n",
    "  {\n",
    "    \"Name\": \"Tournesol, Tryphon (prof.)\",\n",
    "    \"Address\": \"Château de Moulinsart\",\n",
    "    \"Phone\": \"421\",\n",
    "    \"Note\": \"Creator of the Bianca rose.\"\n",
    "  }\n",
    "]\n",
    "\n",
    "contacts = EXAMPLE"
   ]
  },
  {
   "cell_type": "markdown",
   "id": "wanted-slovakia",
   "metadata": {},
   "source": [
    "Let's write the function which will generate the *HTML* code displaying the list of the contacts ."
   ]
  },
  {
   "cell_type": "code",
   "execution_count": null,
   "id": "unlikely-novel",
   "metadata": {},
   "outputs": [],
   "source": [
    "def display_contacts(dom):\n",
    "  html = \"\"\n",
    "\n",
    "  for contactId in range(len(contacts)):\n",
    "    contact = contacts[contactId]\n",
    "    html += f'<tr id=\"{contactId}\" data-xdh-onevent=\"Select\" style=\"cursor: pointer;\">'\n",
    "    for key in contact:\n",
    "      html += f'<td>{contact[key]}</td>'\n",
    "    html += '</td>'\n",
    "\n",
    "  dom.inner(\"Content\", html) # 'Content' is the id of an element of the main HTML page (look at the above definition of the 'BODY_CONTACTS' variable)."
   ]
  },
  {
   "cell_type": "markdown",
   "id": "constitutional-fundamentals",
   "metadata": {},
   "source": [
    "Let's redefine the reaffect the function launched on each new connections, so that it will also display the list of the contacts."
   ]
  },
  {
   "cell_type": "code",
   "execution_count": null,
   "id": "industrial-iceland",
   "metadata": {},
   "outputs": [],
   "source": [
    "def ac_connect(dom):\n",
    "  dom.inner(\"\",BODY)\n",
    "  display_contacts(dom)\n",
    "    \n",
    "callbacks[\"\"] = ac_connect"
   ]
  },
  {
   "cell_type": "markdown",
   "id": "humanitarian-synthetic",
   "metadata": {},
   "source": [
    "Let's look the result. You can still not interact with the application."
   ]
  },
  {
   "cell_type": "code",
   "execution_count": null,
   "id": "secondary-identifier",
   "metadata": {},
   "outputs": [],
   "source": [
    "atlastk.launch(callbacks)"
   ]
  },
  {
   "cell_type": "markdown",
   "id": "imported-locking",
   "metadata": {},
   "source": [
    "We now need a function which will display a specific contact."
   ]
  },
  {
   "cell_type": "code",
   "execution_count": null,
   "id": "complex-willow",
   "metadata": {},
   "outputs": [],
   "source": [
    "def display_contact(contactId,dom):\n",
    "  dom.set_values(contacts[contactId]) # The key of the dictionnaries entries matches the id of the *HTML* code\n",
    "                                      # (see the above definition of the 'BODY_CONTACT' variable),\n",
    "                                      # so we can use the entries of the 'contacts' variable as is."
   ]
  },
  {
   "cell_type": "markdown",
   "id": "surrounded-probability",
   "metadata": {},
   "source": [
    "Let's use this function in the function which will be launched when an entry of the list of contacts is selected."
   ]
  },
  {
   "cell_type": "code",
   "execution_count": null,
   "id": "alert-recommendation",
   "metadata": {},
   "outputs": [],
   "source": [
    "def ac_select(dom,id):\n",
    "  display_contact(int(id),dom)\n",
    "\n",
    "callbacks[\"Select\"] = ac_select"
   ]
  },
  {
   "cell_type": "markdown",
   "id": "documented-standard",
   "metadata": {},
   "source": [
    "Let's see if it works: selecting a contact in the list will now display this contact in the contact form."
   ]
  },
  {
   "cell_type": "code",
   "execution_count": null,
   "id": "brave-complex",
   "metadata": {
    "tags": []
   },
   "outputs": [],
   "source": [
    "atlastk.launch(callbacks)"
   ]
  },
  {
   "cell_type": "markdown",
   "id": "accepting-minnesota",
   "metadata": {},
   "source": [
    "The contact fields are currently enabled, but we need to disable them, so let's define an array containing their ids."
   ]
  },
  {
   "cell_type": "code",
   "execution_count": null,
   "id": "processed-history",
   "metadata": {
    "tags": []
   },
   "outputs": [],
   "source": [
    "FIELDS = [\n",
    "  \"Name\",\n",
    "  \"Address\",\n",
    "  \"Phone\",\n",
    "  \"Note\"\n",
    "]"
   ]
  },
  {
   "cell_type": "markdown",
   "id": "intensive-kinase",
   "metadata": {},
   "source": [
    "Let's create a function which currently disables the fields and shows the *New* button. This function will be later updated to enable/disable the fields and show/hide the proper button depending on the application current mode."
   ]
  },
  {
   "cell_type": "code",
   "execution_count": null,
   "id": "loose-motor",
   "metadata": {},
   "outputs": [],
   "source": [
    "def update_outfit(dom):\n",
    "  dom.disable_elements(FIELDS)\n",
    "  dom.disable_element(\"HideDisplay\") # Disables the element of id 'HideDisplay' defined in `HEAD_BUTTONS` (see above),\n",
    "                                     # which defines a *CSS* rule hiding element with the 'Display' class.\n",
    "                                    # Hence, the 'New' button is displayed."
   ]
  },
  {
   "cell_type": "markdown",
   "id": "continent-missouri",
   "metadata": {},
   "source": [
    "Let's redefine and reaffect the function assigned to the connection action, so it uses this newly created function."
   ]
  },
  {
   "cell_type": "code",
   "execution_count": null,
   "id": "frequent-college",
   "metadata": {},
   "outputs": [],
   "source": [
    "def ac_connect(dom):\n",
    "  dom.inner(\"\",BODY)\n",
    "  display_contacts(dom)\n",
    "  update_outfit(dom)\n",
    "\n",
    "callbacks[\"\"] = ac_connect"
   ]
  },
  {
   "cell_type": "markdown",
   "id": "major-representative",
   "metadata": {},
   "source": [
    "Same for the function assigned to the action lau,ched by selecting an item in the list of contacts."
   ]
  },
  {
   "cell_type": "code",
   "execution_count": null,
   "id": "impressed-beach",
   "metadata": {},
   "outputs": [],
   "source": [
    "def ac_select(dom,id):\n",
    "  display_contact(int(id),dom)\n",
    "  update_outfit(dom)\n",
    "    \n",
    "callbacks[\"Select\"] = ac_select"
   ]
  },
  {
   "cell_type": "markdown",
   "id": "infectious-mailman",
   "metadata": {},
   "source": [
    "Let's see the result. The fields are disabled, and the *New* button is displayed, we have yet to react appropriately to its use."
   ]
  },
  {
   "cell_type": "code",
   "execution_count": null,
   "id": "unsigned-cancer",
   "metadata": {},
   "outputs": [],
   "source": [
    "atlastk.launch(callbacks)"
   ]
  },
  {
   "cell_type": "markdown",
   "id": "frequent-passion",
   "metadata": {},
   "source": [
    "Let's enumerate the two states in which the application can be."
   ]
  },
  {
   "cell_type": "code",
   "execution_count": null,
   "id": "voluntary-warehouse",
   "metadata": {},
   "outputs": [],
   "source": [
    "import enum\n",
    "\n",
    "class State(enum.Enum):\n",
    "  DISPLAY = enum.auto()\n",
    "  EDIT = enum.auto()"
   ]
  },
  {
   "cell_type": "markdown",
   "id": "electoral-comparison",
   "metadata": {},
   "source": [
    "Each user can be in a different state, so let's define an object `Board` which will be user-specific to store this state."
   ]
  },
  {
   "cell_type": "code",
   "execution_count": null,
   "id": "neither-airline",
   "metadata": {},
   "outputs": [],
   "source": [
    "class Board:\n",
    "  def __init__(self):\n",
    "    self.state = State.DISPLAY"
   ]
  },
  {
   "cell_type": "markdown",
   "id": "israeli-small",
   "metadata": {},
   "source": [
    "This object has to be give to the function which enable/disable the fields, and hide/show the buttons. We also update this function so it handles the fields and the buttons according to the state stored in `board`, which is an instance of above `Board`."
   ]
  },
  {
   "cell_type": "code",
   "execution_count": null,
   "id": "educational-impression",
   "metadata": {},
   "outputs": [],
   "source": [
    "def update_outfit(board,dom):\n",
    "  if board.state == State.DISPLAY:\n",
    "    dom.disable_elements(FIELDS)\n",
    "    dom.disable_element(\"HideDisplay\")\n",
    "  elif board.state == State.EDIT:\n",
    "    dom.enable_elements(FIELDS)\n",
    "    dom.enable_elements(\"HideDisplay\")"
   ]
  },
  {
   "cell_type": "markdown",
   "id": "distant-plastic",
   "metadata": {},
   "source": [
    "We also have to update the functions calling this function, so it can pass to it the `board` parameter."
   ]
  },
  {
   "cell_type": "code",
   "execution_count": null,
   "id": "sporting-correlation",
   "metadata": {},
   "outputs": [],
   "source": [
    "def ac_connect(board,dom):\n",
    "  dom.inner(\"\",BODY)\n",
    "  display_contacts(dom)\n",
    "  board.state = State.DISPLAY\n",
    "  update_outfit(board,dom)\n",
    "\n",
    "callbacks[\"\"] = ac_connect\n",
    "\n",
    "def ac_select(board,dom,id):\n",
    "  display_contact(int(id),dom)\n",
    "  board.state = State.DISPLAY\n",
    "  update_outfit(board,dom)\n",
    "    \n",
    "callbacks[\"Select\"] = ac_select"
   ]
  },
  {
   "cell_type": "markdown",
   "id": "bottom-security",
   "metadata": {},
   "source": [
    "We define an empty contact, which will be ued when no contact in the list of contact is selected."
   ]
  },
  {
   "cell_type": "code",
   "execution_count": null,
   "id": "impressed-relaxation",
   "metadata": {},
   "outputs": [],
   "source": [
    "EMPTY_CONTACT = {\n",
    "  \"Name\": \"\",\n",
    "  \"Address\": \"\",\n",
    "  \"Phone\": \"\",\n",
    "  \"Note\": \"\"\n",
    "}"
   ]
  },
  {
   "cell_type": "markdown",
   "id": "overhead-algeria",
   "metadata": {},
   "source": [
    "We update the function which displays a contact so the fields where be emptied when ther is no selected contact."
   ]
  },
  {
   "cell_type": "code",
   "execution_count": null,
   "id": "nearby-economics",
   "metadata": {},
   "outputs": [],
   "source": [
    "def display_contact(contactId,dom):\n",
    "  dom.set_values(EMPTY_CONTACT if contactId == None else contacts[contactId])"
   ]
  },
  {
   "cell_type": "markdown",
   "id": "friendly-cattle",
   "metadata": {},
   "source": [
    "Let's create the function which allows to create a new contact, and assign it to the proper action."
   ]
  },
  {
   "cell_type": "code",
   "execution_count": null,
   "id": "thermal-summer",
   "metadata": {},
   "outputs": [],
   "source": [
    "def ac_new(board,dom):\n",
    "  board.state = State.EDIT\n",
    "  display_contact(None,dom)\n",
    "  update_outfit(board,dom)\n",
    "  dom.focus(\"Name\")\n",
    "\n",
    "callbacks[\"New\"] = ac_new"
   ]
  },
  {
   "cell_type": "markdown",
   "id": "occupied-illinois",
   "metadata": {},
   "source": [
    "Clicking on the *New* button will now be handled properly. You can also launch other instances of this application (click on the URL, or use the QR Code), and they will react independently from each others."
   ]
  },
  {
   "cell_type": "code",
   "execution_count": null,
   "id": "matched-acquisition",
   "metadata": {},
   "outputs": [],
   "source": [
    "atlastk.launch(callbacks,Board) # Note the 'Board' parameter, which is the constructor of a user-specific object."
   ]
  },
  {
   "cell_type": "markdown",
   "id": "identical-frame",
   "metadata": {},
   "source": [
    "Let's now add the handling of the other buttons."
   ]
  },
  {
   "cell_type": "code",
   "execution_count": null,
   "id": "integrated-causing",
   "metadata": {},
   "outputs": [],
   "source": [
    "def update_outfit(board,dom):\n",
    "  if board.state == State.DISPLAY:\n",
    "    dom.disable_elements(FIELDS)\n",
    "    dom.disable_element(\"HideDisplay\")\n",
    "    dom.enable_element(\"HideEdition\")\n",
    "  elif board.state == State.EDIT:\n",
    "    dom.enable_elements(FIELDS)\n",
    "    dom.enable_element(\"HideDisplay\")\n",
    "    dom.disable_element(\"HideEdition\")"
   ]
  },
  {
   "cell_type": "markdown",
   "id": "failing-given",
   "metadata": {},
   "source": [
    "Let's define and assign the function used for the *Cancel* button."
   ]
  },
  {
   "cell_type": "code",
   "execution_count": null,
   "id": "indirect-belgium",
   "metadata": {},
   "outputs": [],
   "source": [
    "def ac_cancel(board,dom):\n",
    "  if dom.confirm(\"Are you sure?\"):\n",
    "    display_contact(None,dom)\n",
    "    board.state = State.DISPLAY\n",
    "    update_outfit(board,dom)\n",
    "    \n",
    "callbacks[\"Cancel\"] = ac_cancel"
   ]
  },
  {
   "cell_type": "markdown",
   "id": "republican-joseph",
   "metadata": {},
   "source": [
    "And also the function for the *Submit* button."
   ]
  },
  {
   "cell_type": "code",
   "execution_count": null,
   "id": "three-library",
   "metadata": {},
   "outputs": [],
   "source": [
    "def ac_submit(board,dom):\n",
    "  idsAndValues = dom.get_values(FIELDS)\n",
    "\n",
    "  if not idsAndValues['Name'].strip():\n",
    "    dom.alert(\"The name field can not be empty!\")\n",
    "  else:\n",
    "    board.state = State.DISPLAY\n",
    "    contacts.append(idsAndValues)\n",
    "    display_contact(None,dom)\n",
    "    display_contacts(dom)\n",
    "    update_outfit(board,dom)\n",
    "    \n",
    "callbacks[\"Submit\"] = ac_submit"
   ]
  },
  {
   "cell_type": "markdown",
   "id": "martial-bottom",
   "metadata": {},
   "source": [
    "The handling of a new contact works now."
   ]
  },
  {
   "cell_type": "code",
   "execution_count": null,
   "id": "acoustic-istanbul",
   "metadata": {},
   "outputs": [],
   "source": [
    "atlastk.launch(callbacks,Board)"
   ]
  },
  {
   "cell_type": "markdown",
   "id": "satellite-frost",
   "metadata": {},
   "source": [
    "Let's update the definition of the used-sepcific object so we can handle the modification of an existing contact."
   ]
  },
  {
   "cell_type": "code",
   "execution_count": null,
   "id": "preceding-tracy",
   "metadata": {},
   "outputs": [],
   "source": [
    "class Board:\n",
    "  def __init__(self):\n",
    "    self.state = State.DISPLAY\n",
    "    self.contactId = None"
   ]
  },
  {
   "cell_type": "markdown",
   "id": "threaded-directory",
   "metadata": {},
   "source": [
    "We need to update accordingly the function called when selecting a contact."
   ]
  },
  {
   "cell_type": "code",
   "execution_count": null,
   "id": "outer-rebound",
   "metadata": {},
   "outputs": [],
   "source": [
    "def ac_select(board,dom,id):\n",
    "  board.contactId = int(id)\n",
    "  display_contact(board.contactId,dom)  \n",
    "  board.state = State.DISPLAY\n",
    "  update_outfit(board,dom)\n",
    "    \n",
    "callbacks[\"Select\"] = ac_select"
   ]
  },
  {
   "cell_type": "markdown",
   "id": "independent-italy",
   "metadata": {},
   "source": [
    "And also the function which hide/show the buttons."
   ]
  },
  {
   "cell_type": "code",
   "execution_count": null,
   "id": "colonial-worcester",
   "metadata": {},
   "outputs": [],
   "source": [
    "def update_outfit(board,dom):\n",
    "  if board.state == State.DISPLAY:\n",
    "    dom.disable_elements(FIELDS)\n",
    "    dom.disable_element(\"HideDisplay\")\n",
    "    dom.enable_element(\"HideEdition\")\n",
    "    if board.contactId == None:\n",
    "      dom.enable_element(\"HideDisplayAndSelect\")\n",
    "    else:\n",
    "      dom.disable_element(\"HideDisplayAndSelect\")\n",
    "  elif board.state == State.EDIT:\n",
    "    dom.enable_elements(FIELDS)\n",
    "    dom.enable_elements((\"HideDisplay\",\"HideDisplayAndSelect\"))\n",
    "    dom.disable_element(\"HideEdition\")"
   ]
  },
  {
   "cell_type": "markdown",
   "id": "opponent-habitat",
   "metadata": {},
   "source": [
    "And we need to create and assign the function used for the *Edit* button."
   ]
  },
  {
   "cell_type": "code",
   "execution_count": null,
   "id": "rental-election",
   "metadata": {},
   "outputs": [],
   "source": [
    "def ac_edit(board,dom):\n",
    "  board.state = State.EDIT\n",
    "  display_contact(board.contactId,dom)\n",
    "  update_outfit(board,dom)\n",
    "  dom.focus(\"Name\")\n",
    "    \n",
    "callbacks[\"Edit\"] = ac_edit"
   ]
  },
  {
   "cell_type": "markdown",
   "id": "normal-limitation",
   "metadata": {},
   "source": [
    "To update the function and reassign the funciton behind the *Cancel* button."
   ]
  },
  {
   "cell_type": "code",
   "execution_count": null,
   "id": "sapphire-madonna",
   "metadata": {},
   "outputs": [],
   "source": [
    "def ac_cancel(board,dom):\n",
    "  if dom.confirm(\"Are you sure?\"):\n",
    "    display_contact(board.contactId,dom)\n",
    "    board.state = State.DISPLAY\n",
    "    update_outfit(board,dom)\n",
    "    \n",
    "callbacks[\"Cancel\"]=ac_cancel"
   ]
  },
  {
   "cell_type": "markdown",
   "id": "infectious-vatican",
   "metadata": {},
   "source": [
    "And also the one behind the *Submit* button."
   ]
  },
  {
   "cell_type": "code",
   "execution_count": null,
   "id": "chicken-comment",
   "metadata": {},
   "outputs": [],
   "source": [
    "def ac_submit(board,dom):\n",
    "  idsAndValues = dom.get_values(FIELDS)\n",
    "\n",
    "  if not idsAndValues['Name'].strip():\n",
    "    dom.alert(\"The name field can not be empty!\")\n",
    "  else:\n",
    "    board.state = State.DISPLAY\n",
    "    if board.contactId == None:\n",
    "      contacts.append(idsAndValues)\n",
    "    else:\n",
    "      contacts[board.contactId] = idsAndValues\n",
    "    display_contact(board.contactId,dom)\n",
    "    display_contacts(dom)\n",
    "    update_outfit(board,dom)\n",
    "    \n",
    "callbacks[\"Submit\"]=ac_submit    "
   ]
  },
  {
   "cell_type": "markdown",
   "id": "entertaining-occurrence",
   "metadata": {},
   "source": [
    "Let's now create and assign the button for the *Delete* button."
   ]
  },
  {
   "cell_type": "code",
   "execution_count": null,
   "id": "sitting-terminal",
   "metadata": {},
   "outputs": [],
   "source": [
    "def ac_delete(board,dom):\n",
    "  contacts.pop(board.contactId)\n",
    "  board.contactId = None;\n",
    "  display_contact(None,dom)\n",
    "  display_contacts(dom)\n",
    "  update_outfit(board,dom)\n",
    "\n",
    "callbacks[\"Delete\"] = ac_delete"
   ]
  },
  {
   "cell_type": "markdown",
   "id": "smoking-malpractice",
   "metadata": {},
   "source": [
    "And let's verify of all this butoons are now working."
   ]
  },
  {
   "cell_type": "code",
   "execution_count": null,
   "id": "romantic-sharing",
   "metadata": {},
   "outputs": [],
   "source": [
    "atlastk.launch(callbacks,Board)"
   ]
  },
  {
   "cell_type": "markdown",
   "id": "traditional-version",
   "metadata": {},
   "source": [
    "If you open multiple instances, you will see that the modification/creation/deletion of a contact will not be reflected immediately in the other instances. Let's fix these."
   ]
  },
  {
   "cell_type": "markdown",
   "id": "double-wisdom",
   "metadata": {},
   "source": [
    "Let's begin with a function which refresh the contact list, and which will be affected to an action which is not defined as value of a `data-xdh-onevent` attribute."
   ]
  },
  {
   "cell_type": "code",
   "execution_count": null,
   "id": "noble-discrimination",
   "metadata": {},
   "outputs": [],
   "source": [
    "def ac_refresh(board,dom):\n",
    "  display_contacts(dom)\n",
    "\n",
    "callbacks[\"Refresh\"] = ac_refresh"
   ]
  },
  {
   "cell_type": "markdown",
   "id": "southwest-olive",
   "metadata": {},
   "source": [
    "In the function behind the *Submit* button, instead of calling directly the contacts list refreshing function, let's use the `atlastk.broadcast_action(\"Refresh\")` function instead. This function will launch the `Refresh` action, to which the above function is assigned, on all instances. Hence, the list of contacts will now be updated on all instances."
   ]
  },
  {
   "cell_type": "code",
   "execution_count": null,
   "id": "reported-brass",
   "metadata": {},
   "outputs": [],
   "source": [
    "def ac_submit(board,dom):\n",
    "  idsAndValues = dom.get_values(FIELDS)\n",
    "\n",
    "  if not idsAndValues['Name'].strip():\n",
    "    dom.alert(\"The name field can not be empty!\")\n",
    "  else:\n",
    "    board.state = State.DISPLAY\n",
    "    if board.contactId == None:\n",
    "      contacts.append(idsAndValues)\n",
    "    else:\n",
    "      contacts[board.contactId] = idsAndValues\n",
    "    display_contact(board.contactId,dom)\n",
    "    atlastk.broadcast_action(\"Refresh\")\n",
    "    update_outfit(board,dom)\n",
    "    \n",
    "callbacks[\"Submit\"] = ac_submit"
   ]
  },
  {
   "cell_type": "markdown",
   "id": "transsexual-internship",
   "metadata": {},
   "source": [
    "Same for the funciton behind the *Delete* button."
   ]
  },
  {
   "cell_type": "code",
   "execution_count": null,
   "id": "green-upper",
   "metadata": {},
   "outputs": [],
   "source": [
    "def ac_delete(board,dom):\n",
    "  contacts.pop(board.contactId)\n",
    "  board.contactId = None;\n",
    "  display_contact(None,dom)\n",
    "  atlastk.broadcast_action(\"Refresh\")\n",
    "  update_outfit(board,dom)\n",
    "\n",
    "callbacks[\"Delete\"] = ac_delete"
   ]
  },
  {
   "cell_type": "markdown",
   "id": "proper-college",
   "metadata": {},
   "source": [
    "Let's admire the result. Open several instances, modify/create/delete a contact in one of them, and you will see that the list of contacts in all instances will be updated accordingly."
   ]
  },
  {
   "cell_type": "code",
   "execution_count": null,
   "id": "alike-maryland",
   "metadata": {},
   "outputs": [],
   "source": [
    "atlastk.launch(callbacks,Board)"
   ]
  },
  {
   "cell_type": "markdown",
   "id": "spoken-floating",
   "metadata": {},
   "source": [
    "As is, the program is far for complete. Many tests are missing, and especially the handling of the concurrent access to the `contacts` variable. This is not addressed here, as the purpose of this *notebbok* is only to show how to use the *Atlas* toolkit."
   ]
  },
  {
   "cell_type": "code",
   "execution_count": null,
   "id": "smart-buyer",
   "metadata": {},
   "outputs": [],
   "source": []
  }
 ],
 "metadata": {
  "kernelspec": {
   "display_name": "Python 3",
   "language": "python",
   "name": "python3"
  },
  "language_info": {
   "codemirror_mode": {
    "name": "ipython",
    "version": 3
   },
   "file_extension": ".py",
   "mimetype": "text/x-python",
   "name": "python",
   "nbconvert_exporter": "python",
   "pygments_lexer": "ipython3",
   "version": "3.6.9"
  }
 },
 "nbformat": 4,
 "nbformat_minor": 5
}
