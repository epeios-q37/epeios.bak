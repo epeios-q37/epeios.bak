{
 "cells": [
  {
   "cell_type": "markdown",
   "id": "available-romania",
   "metadata": {},
   "source": [
    "**If you haven't already done so, please take a look at this [FAQ](https://q37.info/s/kqsb3gmg), especially if you run this notebook on *Google* *Colab*.**"
   ]
  },
  {
   "cell_type": "markdown",
   "id": "grand-explorer",
   "metadata": {},
   "source": [
    "If the [*atlastk*](http://atlastk.org) module is not installed, it will be installed from [*Pypi*](https://q37.info/s/9srmskcm).\n",
    "\n",
    "Don't worry, it's a very lightweight package (~20 Ko), and it has no dependencies…"
   ]
  },
  {
   "cell_type": "code",
   "execution_count": 1,
   "id": "surprised-point",
   "metadata": {},
   "outputs": [],
   "source": [
    "try:\n",
    "  import atlastk\n",
    "except:\n",
    "  !pip install atlastk\n",
    "  import atlastk\n",
    "\n",
    "atlastk.setJupyterHeight(\"150px\") # Adjusting the height of the iframe in which the application will be displayed…"
   ]
  },
  {
   "cell_type": "markdown",
   "id": "global-sustainability",
   "metadata": {},
   "source": [
    "Let now define the body of the base HTML page."
   ]
  },
  {
   "cell_type": "code",
   "execution_count": 6,
   "id": "decreased-crack",
   "metadata": {},
   "outputs": [],
   "source": [
    "BODY = \"\"\"\n",
    "<fieldset>\n",
    "  <input id=\"Input\" maxlength=\"20\" placeholder=\"Enter a name here\" type=\"text\"\n",
    "          data-xdh-onevent=\"Submit\" value=\"world\"/>\n",
    "  <button data-xdh-onevent=\"Submit\">Submit</button>\n",
    "  <hr/>\n",
    "  <fieldset>\n",
    "    <output id=\"Output\"/>\n",
    "  </fieldset>\n",
    "</fieldset>\n",
    "\"\"\""
   ]
  },
  {
   "cell_type": "markdown",
   "id": "numerical-journey",
   "metadata": {},
   "source": [
    "And the function which will be called on each new session."
   ]
  },
  {
   "cell_type": "code",
   "execution_count": 7,
   "id": "simple-basis",
   "metadata": {},
   "outputs": [
    {
     "data": {
      "text/html": [
       "\n",
       "<fieldset>\n",
       "  <input id=\"Input\" maxlength=\"20\" placeholder=\"Enter a name here\" type=\"text\"\n",
       "          data-xdh-onevent=\"Submit\" value=\"world\"/>\n",
       "  <button data-xdh-onevent=\"Submit\">Submit</button>\n",
       "  <hr/>\n",
       "  <fieldset>\n",
       "    <output id=\"Output\"/>\n",
       "  </fieldset>\n",
       "</fieldset>\n"
      ],
      "text/plain": [
       "<IPython.core.display.HTML object>"
      ]
     },
     "metadata": {},
     "output_type": "display_data"
    }
   ],
   "source": [
    "from IPython.display import display, HTML\n",
    "display(HTML(BODY))"
   ]
  },
  {
   "cell_type": "code",
   "execution_count": 3,
   "id": "naval-introduction",
   "metadata": {},
   "outputs": [],
   "source": [
    "def ac_connect(dom):\n",
    "    dom.inner(\"\", BODY) # The empty string (`\"\"`) refers to the root element of the HTML page.\n",
    "    dom.focus(\"Input\")"
   ]
  },
  {
   "cell_type": "markdown",
   "id": "cosmetic-strike",
   "metadata": {},
   "source": [
    "Let's now associate the *Connect* action to this function."
   ]
  },
  {
   "cell_type": "code",
   "execution_count": 4,
   "id": "approved-physiology",
   "metadata": {},
   "outputs": [],
   "source": [
    "callbacks = { \n",
    "    \"\": ac_connect # The empty string (\"\") refers to the action called on each new session.\n",
    "}"
   ]
  },
  {
   "cell_type": "markdown",
   "id": "based-malta",
   "metadata": {},
   "source": [
    "Let's display the apps main page.\n",
    "Click on the URL wich will be displayed below to open the app on it's own page ot tab."
   ]
  },
  {
   "cell_type": "markdown",
   "id": "egyptian-female",
   "metadata": {},
   "source": [
    "Clicking on the *Submit* button or typing on *Enter* in the text field will display an error message, as there is no function assigned to the associated *Submit* action."
   ]
  },
  {
   "cell_type": "code",
   "execution_count": 5,
   "id": "prompt-biography",
   "metadata": {},
   "outputs": [
    {
     "name": "stdout",
     "output_type": "stream",
     "text": [
      "Connection to 'faas1.q37.info:53700'...\n",
      "Connected to 'faas1.q37.info:53700'.\n",
      "\n",
      "****************************************************************************\n",
      "     Your application is connected to the free public server. Welcome!\n",
      "     THIS SERVICE IS PROVIDED \"AS IS\", WITHOUT WARRANTY OF ANY KIND,\n",
      "     EXPRESS OR IMPLIED. THE USE OF THIS SERVICE IS AT YOUR OWN RISK.\n",
      "****************************************************************************\n",
      "\t\t\t\t\t\n",
      "http://faas1.q37.info/xdh.php?_token=a4362e7e-c1a8-4cd3-9880-c2ad24b73996\n",
      "^^^^^^^^^^^^^^^^^^^^^^^^^^^^^^^^^^^^^^^^^^^^^^^^^^^^^^^^^^^^^^^^^^^^^^^^^\n",
      "Open above URL in a web browser (click, right click or copy/paste). Enjoy!\n",
      "\n"
     ]
    },
    {
     "data": {
      "text/html": [
       "\n",
       "        <iframe\n",
       "            width=\"100%\"\n",
       "            height=\"150px\"\n",
       "            src=\"https://faas1.q37.info/xdh.php?_token=a4362e7e-c1a8-4cd3-9880-c2ad24b73996\"\n",
       "            frameborder=\"0\"\n",
       "            allowfullscreen\n",
       "        ></iframe>\n",
       "        "
      ],
      "text/plain": [
       "<IPython.lib.display.IFrame at 0x7fd6702dd208>"
      ]
     },
     "execution_count": 5,
     "metadata": {},
     "output_type": "execute_result"
    }
   ],
   "source": [
    "atlastk.launch(callbacks)"
   ]
  },
  {
   "cell_type": "markdown",
   "id": "beginning-speaking",
   "metadata": {},
   "source": [
    "Let's now create the action which will be associated to the *Submit* action."
   ]
  },
  {
   "cell_type": "code",
   "execution_count": 6,
   "id": "golden-laundry",
   "metadata": {},
   "outputs": [],
   "source": [
    "def ac_submit(dom):\n",
    "    dom.set_value(\"Output\", f\"Hello, {dom.get_value('Input')}!\")\n",
    "    dom.set_value(\"Input\", \"\")\n",
    "    dom.focus(\"Input\")"
   ]
  },
  {
   "cell_type": "markdown",
   "id": "killing-rebecca",
   "metadata": {},
   "source": [
    "Let's associate this function to the *Submit* action defined as the `data-xdh-event` attribute on both `input` and `button` element of the HTML page."
   ]
  },
  {
   "cell_type": "code",
   "execution_count": 7,
   "id": "stock-candidate",
   "metadata": {},
   "outputs": [],
   "source": [
    "callbacks[\"Submit\"] = ac_submit;"
   ]
  },
  {
   "cell_type": "markdown",
   "id": "widespread-thanksgiving",
   "metadata": {},
   "source": [
    "Let's look what the `callback` variable looks like."
   ]
  },
  {
   "cell_type": "code",
   "execution_count": 8,
   "id": "worse-original",
   "metadata": {},
   "outputs": [
    {
     "data": {
      "text/plain": [
       "{'': <function __main__.ac_connect(dom)>,\n",
       " 'Submit': <function __main__.ac_submit(dom)>}"
      ]
     },
     "execution_count": 8,
     "metadata": {},
     "output_type": "execute_result"
    }
   ],
   "source": [
    "(callbacks)"
   ]
  },
  {
   "cell_type": "markdown",
   "id": "juvenile-department",
   "metadata": {},
   "source": [
    "And let's relaunch the app.\n",
    "\n",
    "Clicking on the *Submit* button or typing on *Enter* in the text field will now display the expected greeting message."
   ]
  },
  {
   "cell_type": "code",
   "execution_count": 9,
   "id": "valid-auction",
   "metadata": {},
   "outputs": [
    {
     "name": "stdout",
     "output_type": "stream",
     "text": [
      "Connection to 'faas1.q37.info:53700'...\n",
      "Connected to 'faas1.q37.info:53700'.\n",
      "\n",
      "****************************************************************************\n",
      "     Your application is connected to the free public server. Welcome!\n",
      "     THIS SERVICE IS PROVIDED \"AS IS\", WITHOUT WARRANTY OF ANY KIND,\n",
      "     EXPRESS OR IMPLIED. THE USE OF THIS SERVICE IS AT YOUR OWN RISK.\n",
      "****************************************************************************\n",
      "\t\t\t\t\t\n",
      "http://faas1.q37.info/xdh.php?_token=8b41be41-fb18-4046-a27e-e6313aadcc41\n",
      "^^^^^^^^^^^^^^^^^^^^^^^^^^^^^^^^^^^^^^^^^^^^^^^^^^^^^^^^^^^^^^^^^^^^^^^^^\n",
      "Open above URL in a web browser (click, right click or copy/paste). Enjoy!\n",
      "\n"
     ]
    },
    {
     "data": {
      "text/html": [
       "\n",
       "        <iframe\n",
       "            width=\"100%\"\n",
       "            height=\"150px\"\n",
       "            src=\"https://faas1.q37.info/xdh.php?_token=8b41be41-fb18-4046-a27e-e6313aadcc41\"\n",
       "            frameborder=\"0\"\n",
       "            allowfullscreen\n",
       "        ></iframe>\n",
       "        "
      ],
      "text/plain": [
       "<IPython.lib.display.IFrame at 0x7fd670288a58>"
      ]
     },
     "execution_count": 9,
     "metadata": {},
     "output_type": "execute_result"
    }
   ],
   "source": [
    "atlastk.launch(callbacks)"
   ]
  },
  {
   "cell_type": "code",
   "execution_count": null,
   "id": "copyrighted-navigation",
   "metadata": {},
   "outputs": [],
   "source": []
  }
 ],
 "metadata": {
  "kernelspec": {
   "display_name": "Python 3",
   "language": "python",
   "name": "python3"
  },
  "language_info": {
   "codemirror_mode": {
    "name": "ipython",
    "version": 3
   },
   "file_extension": ".py",
   "mimetype": "text/x-python",
   "name": "python",
   "nbconvert_exporter": "python",
   "pygments_lexer": "ipython3",
   "version": "3.6.9"
  }
 },
 "nbformat": 4,
 "nbformat_minor": 5
}
