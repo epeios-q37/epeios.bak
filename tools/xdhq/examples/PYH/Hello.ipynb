{
 "cells": [
  {
   "cell_type": "markdown",
   "id": "emerging-campaign",
   "metadata": {},
   "source": [
    "**If you haven't already done so, please take a look at this [FAQ](https://q37.info/s/kqsb3gmg), especially if you run this notebook on *Google* *Colab*.**"
   ]
  },
  {
   "cell_type": "markdown",
   "id": "removed-milwaukee",
   "metadata": {},
   "source": [
    "If the [*atlastk*](http://atlastk.org) module is not installed, it will be installed from [*Pypi*](https://q37.info/s/9srmskcm).\n",
    "\n",
    "Don't worry, it's a very lightweight package (~20 Ko), and it has no dependencies…"
   ]
  },
  {
   "cell_type": "code",
   "execution_count": null,
   "id": "controversial-speaker",
   "metadata": {},
   "outputs": [],
   "source": [
    "try:\n",
    "  import atlastk\n",
    "except:\n",
    "  !pip install atlastk\n",
    "  import atlastk\n",
    "\n",
    "atlastk.setJupyterHeight(\"150px\") # Adjusting the height of the iframe in which the application will be displayed…"
   ]
  },
  {
   "cell_type": "markdown",
   "id": "alpine-horizon",
   "metadata": {},
   "source": [
    "Let now define the body of the base HTML page."
   ]
  },
  {
   "cell_type": "code",
   "execution_count": null,
   "id": "favorite-forest",
   "metadata": {},
   "outputs": [],
   "source": [
    "BODY = \"\"\"\n",
    "<fieldset>\n",
    "  <input id=\"Input\" maxlength=\"20\" placeholder=\"Enter a name here\" type=\"text\"\n",
    "          data-xdh-onevent=\"Submit\" value=\"world\"/>\n",
    "  <button data-xdh-onevent=\"Submit\">Submit</button>\n",
    "  <hr/>\n",
    "  <fieldset>\n",
    "    <output id=\"Output\"/>\n",
    "  </fieldset>\n",
    "</fieldset>\n",
    "\"\"\""
   ]
  },
  {
   "cell_type": "markdown",
   "id": "waiting-editing",
   "metadata": {},
   "source": [
    "And the function which will be called on each new session."
   ]
  },
  {
   "cell_type": "code",
   "execution_count": null,
   "id": "innocent-bottom",
   "metadata": {},
   "outputs": [],
   "source": [
    "def ac_connect(dom):\n",
    "    dom.inner(\"\", BODY) # The empty string (`\"\"`) refers to the root element of the HTML page.\n",
    "    dom.focus(\"Input\")"
   ]
  },
  {
   "cell_type": "markdown",
   "id": "australian-athletics",
   "metadata": {},
   "source": [
    "Let's now associate the *Connect* action to this function."
   ]
  },
  {
   "cell_type": "code",
   "execution_count": null,
   "id": "remarkable-fence",
   "metadata": {},
   "outputs": [],
   "source": [
    "callbacks = { \n",
    "    \"\": ac_connect # The empty string (\"\") refers to the action called on each new session.\n",
    "}"
   ]
  },
  {
   "cell_type": "markdown",
   "id": "configured-massachusetts",
   "metadata": {},
   "source": [
    "Let's display the apps main page.\n",
    "Click on the URL wich will be displayed below to open the app on it's own page ot tab."
   ]
  },
  {
   "cell_type": "markdown",
   "id": "later-dress",
   "metadata": {},
   "source": [
    "Clicking on the *Submit* button or typing on *Enter* in the text field will display an error message, as there is no function assigned to the associated *Submit* action."
   ]
  },
  {
   "cell_type": "code",
   "execution_count": null,
   "id": "binary-quick",
   "metadata": {},
   "outputs": [],
   "source": [
    "atlastk.launch(callbacks)"
   ]
  },
  {
   "cell_type": "markdown",
   "id": "floppy-continent",
   "metadata": {},
   "source": [
    "Let's now create the action which will be associated to the *Submit* action."
   ]
  },
  {
   "cell_type": "code",
   "execution_count": null,
   "id": "continent-profile",
   "metadata": {},
   "outputs": [],
   "source": [
    "def ac_submit(dom):\n",
    "    dom.set_value(\"Output\", f\"Hello, {dom.get_value('Input')}!\")\n",
    "    dom.set_value(\"Input\", \"\")\n",
    "    dom.focus(\"Input\")"
   ]
  },
  {
   "cell_type": "markdown",
   "id": "caroline-writer",
   "metadata": {},
   "source": [
    "Let's associate this function to the *Submit* action defined as the `data-xdh-event` attribute on both `input` and `button` element of the HTML page."
   ]
  },
  {
   "cell_type": "code",
   "execution_count": null,
   "id": "coastal-hometown",
   "metadata": {},
   "outputs": [],
   "source": [
    "callbacks[\"Submit\"] = ac_submit;"
   ]
  },
  {
   "cell_type": "markdown",
   "id": "closing-terrace",
   "metadata": {},
   "source": [
    "Let's look what the `callback` variable looks like."
   ]
  },
  {
   "cell_type": "code",
   "execution_count": null,
   "id": "crucial-indication",
   "metadata": {},
   "outputs": [],
   "source": [
    "(callbacks)"
   ]
  },
  {
   "cell_type": "markdown",
   "id": "caroline-patient",
   "metadata": {},
   "source": [
    "And let's relaunch the app.\n",
    "\n",
    "Clicking on the *Submit* button or typing on *Enter* in the text field will now display the expected greeting message."
   ]
  },
  {
   "cell_type": "code",
   "execution_count": null,
   "id": "proof-girlfriend",
   "metadata": {},
   "outputs": [],
   "source": [
    "atlastk.launch(callbacks)"
   ]
  }
 ],
 "metadata": {
  "kernelspec": {
   "display_name": "Python 3",
   "language": "python",
   "name": "python3"
  },
  "language_info": {
   "codemirror_mode": {
    "name": "ipython",
    "version": 3
   },
   "file_extension": ".py",
   "mimetype": "text/x-python",
   "name": "python",
   "nbconvert_exporter": "python",
   "pygments_lexer": "ipython3",
   "version": "3.6.9"
  }
 },
 "nbformat": 4,
 "nbformat_minor": 5
}
